{
 "cells": [
  {
   "attachments": {},
   "cell_type": "markdown",
   "metadata": {},
   "source": [
    "# Prüfungsleitung Maschnielles Lernen: Gruppe 8\n",
    "\n",
    "bearbeitet von folgenden Matrikelnummern: 2150648, 8503403 <br>\n",
    "Isolet download: https://datahub.io/machine-learning/isolet"
   ]
  },
  {
   "attachments": {},
   "cell_type": "markdown",
   "metadata": {},
   "source": [
    "In der vorliegenden Prüfungsleistung wurde die Aufgabe gestellt, Buchstaben anhand von Audioaufnahmen zu erkennen. Als Datenset diente eine bereits vorgefertigte Matrix mit 7797 Samples, welches 617 Merkmalen aus den Audioaufnahmen extrahiert hat. Die 617 Merkmale sind Gleitkommazahlen im Wertebereich von -1 bis 1. Das Notebook beinhaltet beide gestellten Aufgaben, sowie den Code und die dazugehörige Dokumentation in Markdown-Boxen. In der ersten Aufgabe handelt es sich um die Erstellung eines Modells mittels überwachter Lernverfahren. Bei der zweiten Aufgabe mittels einem Deep Learning-Modell. <br>\n",
    "Die zu verwendeten Bibliotheken sind folgende:\n",
    "* vorgegebene Bibliotheken: tensorflow, sklearn und numpy\n",
    "* weitere Bibliotheken: pandas, seaborn und matplotlib\n",
    "\n",
    "Der Code wurde mit Python v3.10.8 getestet"
   ]
  },
  {
   "attachments": {},
   "cell_type": "markdown",
   "metadata": {},
   "source": [
    "### Aufgabe 2"
   ]
  },
  {
   "attachments": {},
   "cell_type": "markdown",
   "metadata": {},
   "source": [
    "Lösung durch Deep Learning."
   ]
  },
  {
   "attachments": {},
   "cell_type": "markdown",
   "metadata": {},
   "source": [
    "#### 1.1) Import und Splitting des Datensatzes"
   ]
  },
  {
   "attachments": {},
   "cell_type": "markdown",
   "metadata": {},
   "source": [
    "##### Import(s)"
   ]
  },
  {
   "cell_type": "code",
   "execution_count": 16,
   "metadata": {},
   "outputs": [],
   "source": [
    "import pandas as pd\n",
    "import matplotlib.pyplot as plt\n",
    "import numpy as np\n",
    "from numpy import argmax\n",
    "import tensorflow as tf\n",
    "from tensorflow.keras.models import Sequential\n",
    "from tensorflow.keras.optimizers import SGD\n",
    "from tensorflow.keras.layers import Dense\n",
    "from tensorflow.keras.metrics import SparseCategoricalAccuracy\n",
    "from sklearn.model_selection import train_test_split\n",
    "from sklearn.preprocessing import LabelEncoder\n",
    "from sklearn.model_selection import KFold\n",
    "import seaborn as sns"
   ]
  },
  {
   "attachments": {},
   "cell_type": "markdown",
   "metadata": {},
   "source": [
    "Das zu importierende Datenset soll den Namen \"raw_isolet.csv\" tragen und im gleichen Pfad, wie das Notebook sein. Zum Zeitpunkt des Herunterladen der Isolet-Datei war die Abgrenzung der Werte durch das Komma-Symbol erfolgt. Sollte sich das geändert haben, muss der Parameter delimeter angepasst werden."
   ]
  },
  {
   "cell_type": "code",
   "execution_count": 17,
   "metadata": {},
   "outputs": [],
   "source": [
    "# import\n",
    "df_raw_isolet = pd.read_csv(\"./raw_isolet.csv\", delimiter=\",\")"
   ]
  },
  {
   "attachments": {},
   "cell_type": "markdown",
   "metadata": {},
   "source": [
    "##### Datenbereinigung"
   ]
  },
  {
   "attachments": {},
   "cell_type": "markdown",
   "metadata": {},
   "source": [
    "Um Unklarheiten zu umgehen, wurde die Spalte 'Class' in 'Letter' umbenannt. <br>\n",
    "Außerdem wurden die String-typischen Anführungszeichen entfernt. <br>\n",
    "Zuletzt wird das Datenset in die Merkmale \"df_features\" und die Buchstaben \"df_letters\" gesplittet."
   ]
  },
  {
   "cell_type": "code",
   "execution_count": 18,
   "metadata": {},
   "outputs": [],
   "source": [
    "# changing column name 'class' to 'letter' 'cause class is a reserved keyword in python \n",
    "df_raw_isolet.rename(columns={'class': 'letter'}, inplace=True)\n",
    "# removing char ' from letter\n",
    "df_raw_isolet['letter'] = df_raw_isolet['letter'].replace({'\\'': ''}, regex=True).astype(float) - 1\n",
    "\n",
    "df_features = df_raw_isolet.iloc[:, :617].to_numpy()\n",
    "df_letters = df_raw_isolet.iloc[:, 617].to_numpy()"
   ]
  },
  {
   "attachments": {},
   "cell_type": "markdown",
   "metadata": {},
   "source": [
    "##### Data Splitting"
   ]
  },
  {
   "attachments": {},
   "cell_type": "markdown",
   "metadata": {},
   "source": [
    "Der Datensatz wird nun mit dem gewünschten Verhältnis (test_size) eingeteilt. Da die Daten geordnet sind, werden diese auch ohne shuffle gleichmäßig verteilt (shuffle=False). "
   ]
  },
  {
   "cell_type": "code",
   "execution_count": 19,
   "metadata": {},
   "outputs": [],
   "source": [
    "features_train, features_test, letters_train, letters_test = train_test_split(df_features, df_letters, test_size=.25, shuffle=False)"
   ]
  },
  {
   "attachments": {},
   "cell_type": "markdown",
   "metadata": {},
   "source": [
    "#### 2.2) Netzwerkarchitektur"
   ]
  },
  {
   "attachments": {},
   "cell_type": "markdown",
   "metadata": {},
   "source": [
    "Die Herausforderung bei der Wahl der Netzwerkarchitektur ist es die richtige verschiedenen Eigenschaften für das Modell zu finden, wie bspw. die Anzahl der Schichten, Neuronen, Aktivierungsfunktion, etc. <br>\n",
    "Bei der Auswahl der Schichten gilt es darauf zu achten, dass nicht zu wenige implementiert werden, um wichtige Erkenntnisse auch weiterzugeben, sowie nicht zu viele um die Performance gering zu halten und die Gefahr des Overfitting zu vermeiden. In unseren Fall hat das Datenset keine hohe Komplexität und verschiedenste Anzahl an Merkmale, die es zu auszuwerten gilt. Das DL-Modell braucht daher keine aufwendige Netzwerkarchitektur. <br>\n",
    "Da anhand von Float-Werten Klassifiziert werden soll, ist das Feedforward-Neural-Network die beste und einfachste Vorgehensweise. Das die Trainingszeit dieses Modells schnell ist, wie bei manch anderen Aufgaben, konnte man auch das Prinzip des Trial and Error ausnutzen. Man ist Anfangs mit 4 Schichten gestartet (500, 250, 125, 26). Im weiteren Verlauf hat man Schubweise die Anzahl an Schichten und Neuronen gesteigert. Das für uns beste Ergebnis in Sachen Genauigkeit und Dauer hatte die Konstellation (1000, 600, 400, 200, 100, 26) ergeben. Man hat sich bei den Schichten zu einem vollvernetzen Deep-Learning-Modell entschieden, da es sich hierbei um ein überwachtes Lernverfahren handelt. Es ist auch gut für den Einsatz, wenn viele Eigenschaften eines Merkmals ausgewertet werden sollen. Es sollte sich bewusst gemacht werden, dass vollvernetzen Deep-Learning-Modelle die Gefahr haben zum Overfitten. <br><br>\n",
    "\n",
    "Bei der Aktivierungsfunktion wurde sich aufgrund der Beliebtheit für die ReLU entschieden. Man hat sicherheitshalber dies auch die (Leaky ReLU)-Funktion getestet. Es haben sich keine messbaren Änderungen herausgestellt und es wurde das ReLU aufgrund der Beliebtheit in der Community vorgezogen. Für die Initialisierung der Neuronen wurde die speziell konzipierte HeNormal-Funktion verwendet. <br>\n",
    "Damit am Ende eine Klassifikation von 26 entsteht soll, wurde bei der letzten Schicht die Aktivierungsfunktion Softmax verwendet.\n",
    "\n"
   ]
  },
  {
   "attachments": {},
   "cell_type": "markdown",
   "metadata": {},
   "source": [
    "#### 2.3) Implementierung"
   ]
  },
  {
   "cell_type": "code",
   "execution_count": 20,
   "metadata": {},
   "outputs": [],
   "source": [
    "# Dimensionen der Trainingsdaten bestimmen\n",
    "in_shape = df_features.shape[1:]\n",
    "\n",
    "model = Sequential()\n",
    "model.add(Dense(1000, activation='relu', kernel_initializer='he_normal', input_shape=in_shape))\n",
    "model.add(Dense(600, activation='relu', kernel_initializer='he_normal'))\n",
    "model.add(Dense(400, activation='relu', kernel_initializer='he_normal'))\n",
    "model.add(Dense(200, activation='relu', kernel_initializer='he_normal'))\n",
    "model.add(Dense(100, activation='relu', kernel_initializer='he_normal'))\n",
    "model.add(Dense(26, activation='softmax'))"
   ]
  },
  {
   "attachments": {},
   "cell_type": "markdown",
   "metadata": {},
   "source": [
    "#### 2.4) Wahl der Loss-Funktion und Optimizer"
   ]
  },
  {
   "attachments": {},
   "cell_type": "markdown",
   "metadata": {},
   "source": [
    "Bei der Wahl der Loss-Funktion bietet Keras zwei verschiedene Funktionen für die Klassifikation an: 'sparse_categorical_crossentropy' und 'categorial_crossentropy'. Da die Labels als Integer definiert sind, wird die Sprase-Funktion verwendet. Für die Wahl des Optimizers haben wir uns auf den beliebtesten Optizimer gemäß der Vorlesung bezogen (Folie 25 Kapitel 7). Dadurch, dass die Lernrate adaptiv angepasst wird, braucht es keine aufwendigen manuellen Einstellungen vorzunehmen. Die Nachteile sind die langsame Konvergenz bei großen Datensätzen und der hohe Speicherbedarf. Dies hat aber für die Größe und Komplexität des Datensatz keine allzu große Auswirkungen. "
   ]
  },
  {
   "cell_type": "code",
   "execution_count": 21,
   "metadata": {},
   "outputs": [],
   "source": [
    "model.compile(optimizer='adam', loss='sparse_categorical_crossentropy', metrics=[SparseCategoricalAccuracy()])"
   ]
  },
  {
   "attachments": {},
   "cell_type": "markdown",
   "metadata": {},
   "source": [
    "Für das Training wurde eine Batch-Size von 512 ausgewählt. Im Gegensatz zu den häufigen Internetquellen, die eine Batch-Size von 32 oder 64 vorschlagen, konnte man aber eine sehr hohe Instabilität der Werte für Genauigkeit und Loss erkennen. Mit dem Wert 265 war die Instabilität zufallsabhängig ab und zu immer noch vorhanden, der Wert 512 war in den Testdurchläufen deutlich besser. Eine höhere Anzahl die Speicheranforderung erhöht in der Regel die Speicheranforderung konnte aber aufgrund der Komplexität des Datensatzes sogar auf einen Business-Laptop unter 20 Sekunden trainiert werden. <br>\n",
    "Bei der Epochenanzahl ist man anfangs mit 50 Epochen gestartet. Durch das folgende Diagramm kam man zum Entschluss dass die Asymptoten schon bei 15 erkennbar ist. Sicherheitshalber, und weil das Training an sich schon kurz ist, wurde ein etwas größerer Wert 30 genommen. "
   ]
  },
  {
   "cell_type": "code",
   "execution_count": 22,
   "metadata": {},
   "outputs": [
    {
     "name": "stdout",
     "output_type": "stream",
     "text": [
      "Epoch 1/30\n",
      "12/12 [==============================] - 1s 44ms/step - loss: 1.8679 - sparse_categorical_accuracy: 0.4529 - val_loss: 0.8298 - val_sparse_categorical_accuracy: 0.6744\n",
      "Epoch 2/30\n",
      "12/12 [==============================] - 0s 27ms/step - loss: 0.5034 - sparse_categorical_accuracy: 0.8225 - val_loss: 0.3948 - val_sparse_categorical_accuracy: 0.8523\n",
      "Epoch 3/30\n",
      "12/12 [==============================] - 0s 28ms/step - loss: 0.2605 - sparse_categorical_accuracy: 0.9153 - val_loss: 0.2926 - val_sparse_categorical_accuracy: 0.9041\n",
      "Epoch 4/30\n",
      "12/12 [==============================] - 0s 27ms/step - loss: 0.1746 - sparse_categorical_accuracy: 0.9437 - val_loss: 0.2603 - val_sparse_categorical_accuracy: 0.9113\n",
      "Epoch 5/30\n",
      "12/12 [==============================] - 0s 27ms/step - loss: 0.1319 - sparse_categorical_accuracy: 0.9590 - val_loss: 0.2371 - val_sparse_categorical_accuracy: 0.9210\n",
      "Epoch 6/30\n",
      "12/12 [==============================] - 0s 28ms/step - loss: 0.1107 - sparse_categorical_accuracy: 0.9656 - val_loss: 0.1914 - val_sparse_categorical_accuracy: 0.9328\n",
      "Epoch 7/30\n",
      "12/12 [==============================] - 0s 30ms/step - loss: 0.0803 - sparse_categorical_accuracy: 0.9762 - val_loss: 0.1781 - val_sparse_categorical_accuracy: 0.9400\n",
      "Epoch 8/30\n",
      "12/12 [==============================] - 0s 29ms/step - loss: 0.0513 - sparse_categorical_accuracy: 0.9865 - val_loss: 0.1777 - val_sparse_categorical_accuracy: 0.9451\n",
      "Epoch 9/30\n",
      "12/12 [==============================] - 0s 28ms/step - loss: 0.0367 - sparse_categorical_accuracy: 0.9906 - val_loss: 0.1727 - val_sparse_categorical_accuracy: 0.9451\n",
      "Epoch 10/30\n",
      "12/12 [==============================] - 0s 27ms/step - loss: 0.0303 - sparse_categorical_accuracy: 0.9930 - val_loss: 0.1861 - val_sparse_categorical_accuracy: 0.9410\n",
      "Epoch 11/30\n",
      "12/12 [==============================] - 0s 26ms/step - loss: 0.0321 - sparse_categorical_accuracy: 0.9896 - val_loss: 0.1854 - val_sparse_categorical_accuracy: 0.9456\n",
      "Epoch 12/30\n",
      "12/12 [==============================] - 0s 27ms/step - loss: 0.0260 - sparse_categorical_accuracy: 0.9932 - val_loss: 0.1670 - val_sparse_categorical_accuracy: 0.9513\n",
      "Epoch 13/30\n",
      "12/12 [==============================] - 0s 26ms/step - loss: 0.0147 - sparse_categorical_accuracy: 0.9979 - val_loss: 0.1737 - val_sparse_categorical_accuracy: 0.9487\n",
      "Epoch 14/30\n",
      "12/12 [==============================] - 0s 26ms/step - loss: 0.0102 - sparse_categorical_accuracy: 0.9979 - val_loss: 0.1810 - val_sparse_categorical_accuracy: 0.9477\n",
      "Epoch 15/30\n",
      "12/12 [==============================] - 0s 27ms/step - loss: 0.0074 - sparse_categorical_accuracy: 0.9991 - val_loss: 0.1758 - val_sparse_categorical_accuracy: 0.9497\n",
      "Epoch 16/30\n",
      "12/12 [==============================] - 0s 27ms/step - loss: 0.0049 - sparse_categorical_accuracy: 0.9995 - val_loss: 0.1669 - val_sparse_categorical_accuracy: 0.9523\n",
      "Epoch 17/30\n",
      "12/12 [==============================] - 0s 26ms/step - loss: 0.0031 - sparse_categorical_accuracy: 1.0000 - val_loss: 0.1688 - val_sparse_categorical_accuracy: 0.9533\n",
      "Epoch 18/30\n",
      "12/12 [==============================] - 0s 26ms/step - loss: 0.0032 - sparse_categorical_accuracy: 0.9998 - val_loss: 0.1645 - val_sparse_categorical_accuracy: 0.9544\n",
      "Epoch 19/30\n",
      "12/12 [==============================] - 0s 27ms/step - loss: 0.0022 - sparse_categorical_accuracy: 1.0000 - val_loss: 0.1689 - val_sparse_categorical_accuracy: 0.9559\n",
      "Epoch 20/30\n",
      "12/12 [==============================] - 0s 26ms/step - loss: 0.0016 - sparse_categorical_accuracy: 1.0000 - val_loss: 0.1660 - val_sparse_categorical_accuracy: 0.9559\n",
      "Epoch 21/30\n",
      "12/12 [==============================] - 0s 28ms/step - loss: 0.0013 - sparse_categorical_accuracy: 1.0000 - val_loss: 0.1681 - val_sparse_categorical_accuracy: 0.9533\n",
      "Epoch 22/30\n",
      "12/12 [==============================] - 0s 27ms/step - loss: 0.0011 - sparse_categorical_accuracy: 1.0000 - val_loss: 0.1739 - val_sparse_categorical_accuracy: 0.9533\n",
      "Epoch 23/30\n",
      "12/12 [==============================] - 0s 28ms/step - loss: 9.7268e-04 - sparse_categorical_accuracy: 1.0000 - val_loss: 0.1724 - val_sparse_categorical_accuracy: 0.9554\n",
      "Epoch 24/30\n",
      "12/12 [==============================] - 0s 26ms/step - loss: 8.5476e-04 - sparse_categorical_accuracy: 1.0000 - val_loss: 0.1720 - val_sparse_categorical_accuracy: 0.9564\n",
      "Epoch 25/30\n",
      "12/12 [==============================] - 0s 28ms/step - loss: 7.7676e-04 - sparse_categorical_accuracy: 1.0000 - val_loss: 0.1730 - val_sparse_categorical_accuracy: 0.9554\n",
      "Epoch 26/30\n",
      "12/12 [==============================] - 0s 29ms/step - loss: 7.2541e-04 - sparse_categorical_accuracy: 1.0000 - val_loss: 0.1740 - val_sparse_categorical_accuracy: 0.9559\n",
      "Epoch 27/30\n",
      "12/12 [==============================] - 0s 29ms/step - loss: 6.8594e-04 - sparse_categorical_accuracy: 1.0000 - val_loss: 0.1771 - val_sparse_categorical_accuracy: 0.9554\n",
      "Epoch 28/30\n",
      "12/12 [==============================] - 0s 27ms/step - loss: 6.3126e-04 - sparse_categorical_accuracy: 1.0000 - val_loss: 0.1774 - val_sparse_categorical_accuracy: 0.9569\n",
      "Epoch 29/30\n",
      "12/12 [==============================] - 0s 30ms/step - loss: 5.8761e-04 - sparse_categorical_accuracy: 1.0000 - val_loss: 0.1766 - val_sparse_categorical_accuracy: 0.9564\n",
      "Epoch 30/30\n",
      "12/12 [==============================] - 0s 31ms/step - loss: 5.5047e-04 - sparse_categorical_accuracy: 1.0000 - val_loss: 0.1785 - val_sparse_categorical_accuracy: 0.9554\n"
     ]
    }
   ],
   "source": [
    "history = model.fit(features_train, letters_train, epochs=30, batch_size=512, verbose=True, validation_data=(features_test, letters_test))"
   ]
  },
  {
   "attachments": {},
   "cell_type": "markdown",
   "metadata": {},
   "source": [
    "#### 2.5) Evaluierung"
   ]
  },
  {
   "attachments": {},
   "cell_type": "markdown",
   "metadata": {},
   "source": [
    "##### Trainingshistorie"
   ]
  },
  {
   "attachments": {},
   "cell_type": "markdown",
   "metadata": {},
   "source": [
    "Damit die Interpretation der ausschlaggebenden Variablen besser interpretierbar ist, wurde ein Lineplot erstellt. Anhand dessen konnte man gut das Training nachvollziehen und Performance einstellungen anpassen und evaluieren. "
   ]
  },
  {
   "cell_type": "code",
   "execution_count": 23,
   "metadata": {},
   "outputs": [],
   "source": [
    "def create_training_graph(history):\n",
    "    df_history = pd.DataFrame(history.history).reset_index()\n",
    "    df_history.columns = [\"Epoch\", \"loss\", \"accuracy\", \"val_loss\", \"val_accuracy\"]\n",
    "    df_history = pd.melt(df_history, id_vars=\"Epoch\", value_vars=[\"loss\", \"accuracy\", \"val_loss\", \"val_accuracy\"])\n",
    "    fig = sns.lineplot(df_history, x=\"Epoch\", y=\"value\", hue=\"variable\")\n",
    "    fig.set_title(\"Training history\")\n",
    "    return fig"
   ]
  },
  {
   "attachments": {},
   "cell_type": "markdown",
   "metadata": {},
   "source": [
    "Evaluation der Implementierung in der 2.4)"
   ]
  },
  {
   "cell_type": "code",
   "execution_count": 24,
   "metadata": {},
   "outputs": [
    {
     "name": "stdout",
     "output_type": "stream",
     "text": [
      "Accuracy: 0.9553846120834351, Loss: 0.17853866517543793\n"
     ]
    },
    {
     "data": {
      "image/png": "[encoded data removed]",
      "text/plain": [
       "<Figure size 640x480 with 1 Axes>"
      ]
     },
     "metadata": {},
     "output_type": "display_data"
    }
   ],
   "source": [
    "fig = create_training_graph(history)\n",
    "loss, acc = model.evaluate(features_test, letters_test, verbose=0)\n",
    "print(f\"Accuracy: {acc}, Loss: {loss}\")"
   ]
  },
  {
   "attachments": {},
   "cell_type": "markdown",
   "metadata": {},
   "source": [
    "##### 3-fold cv"
   ]
  },
  {
   "attachments": {},
   "cell_type": "markdown",
   "metadata": {},
   "source": [
    "Der Ansatz der dreifach gefaltete Kreuzvalidierung wurde bereits in der Aufgabe 1 erläutert."
   ]
  },
  {
   "cell_type": "code",
   "execution_count": 32,
   "metadata": {},
   "outputs": [
    {
     "name": "stdout",
     "output_type": "stream",
     "text": [
      "------------------------------------------------------------------------\n",
      "Training for fold 1 ...\n",
      "Score for fold 1: loss of 0.28096750378608704; accuracy of 93.84299516677856%\n",
      "------------------------------------------------------------------------\n",
      "Training for fold 2 ...\n",
      "Score for fold 2: loss of 0.17988808453083038; accuracy of 94.71523761749268%\n",
      "------------------------------------------------------------------------\n",
      "Training for fold 3 ...\n",
      "Score for fold 3: loss of 0.19785135984420776; accuracy of 94.61262226104736%\n",
      "------------------------------------------------------------------------\n"
     ]
    }
   ],
   "source": [
    "# Dimensionen der Trainingsdaten bestimmen\n",
    "in_shape = df_features.shape[1:]\n",
    "\n",
    "kfold = KFold(n_splits=3)\n",
    "acc_per_fold = []\n",
    "loss_per_fold = []\n",
    "\n",
    "# K-fold Cross Validation model evaluation\n",
    "fold_no = 1\n",
    "for train, test in kfold.split(features_train, letters_train):\n",
    "\n",
    "    model = Sequential()\n",
    "    model.add(Dense(1000, activation='relu', kernel_initializer='he_normal', input_shape=in_shape))\n",
    "    model.add(Dense(600, activation='relu', kernel_initializer='he_normal'))\n",
    "    model.add(Dense(400, activation='relu', kernel_initializer='he_normal'))\n",
    "    model.add(Dense(200, activation='relu', kernel_initializer='he_normal'))\n",
    "    model.add(Dense(100, activation='relu', kernel_initializer='he_normal'))\n",
    "    model.add(Dense(26, activation='softmax'))\n",
    "\n",
    "    model.compile(optimizer='adam', loss='sparse_categorical_crossentropy', metrics=[SparseCategoricalAccuracy()])\n",
    "\n",
    "    # Generate a print \n",
    "    print('------------------------------------------------------------------------')\n",
    "    print(f'Training for fold {fold_no} ...')\n",
    "\n",
    "    history = model.fit(features_train[train], letters_train[train], epochs=30, batch_size=512, verbose=False)\n",
    "    \n",
    "    # # Generate generalization metrics\n",
    "    loss, acc = model.evaluate(features_train[test], letters_train[test], verbose=False)\n",
    "    print(f'Score for fold {fold_no}: loss of {loss}; accuracy of {acc*100}%')\n",
    "    acc_per_fold.append(acc * 100)\n",
    "    loss_per_fold.append(loss)\n",
    "\n",
    "    # Increase fold number\n",
    "    fold_no = fold_no + 1\n",
    "    \n",
    "print('------------------------------------------------------------------------')"
   ]
  },
  {
   "cell_type": "code",
   "execution_count": null,
   "metadata": {},
   "outputs": [
    {
     "name": "stdout",
     "output_type": "stream",
     "text": [
      "------------------------------------------------------------------------\n",
      "Score per fold\n",
      "------------------------------------------------------------------------\n",
      "> Fold 1 - Loss: 0.236713245511055 - Accuracy: 94.20215487480164%\n",
      "------------------------------------------------------------------------\n",
      "> Fold 2 - Loss: 0.17987313866615295 - Accuracy: 95.07439732551575%\n",
      "------------------------------------------------------------------------\n",
      "> Fold 3 - Loss: 0.20471207797527313 - Accuracy: 95.48486471176147%\n",
      "------------------------------------------------------------------------\n",
      "Average scores for all folds:\n",
      "> Accuracy: 94.92047230402629 (+- 0.5348556288936187)\n",
      "> Loss: 0.20709948738416037\n",
      "------------------------------------------------------------------------\n"
     ]
    }
   ],
   "source": [
    "# == Provide average scores ==\n",
    "print('------------------------------------------------------------------------')\n",
    "print('Score per fold')\n",
    "for i in range(0, len(acc_per_fold)):\n",
    "  print('------------------------------------------------------------------------')\n",
    "  print(f'> Fold {i+1} - Loss: {loss_per_fold[i]} - Accuracy: {acc_per_fold[i]}%')\n",
    "print('------------------------------------------------------------------------')\n",
    "print('Average scores for all folds:')\n",
    "print(f'> Accuracy: {np.mean(acc_per_fold)} (+- {np.std(acc_per_fold)})')\n",
    "print(f'> Loss: {np.mean(loss_per_fold)}')\n",
    "print('------------------------------------------------------------------------')"
   ]
  },
  {
   "attachments": {},
   "cell_type": "markdown",
   "metadata": {},
   "source": [
    "Mit einer Genauigkeit von ca. 95% ist das Modell sehr gut gelungen. Es hat eine bessere Genauigkeit als, die der Aufgabe 1. "
   ]
  },
  {
   "attachments": {},
   "cell_type": "markdown",
   "metadata": {},
   "source": [
    "# Weitere Bestandteiles des Kurzreports"
   ]
  },
  {
   "attachments": {},
   "cell_type": "markdown",
   "metadata": {},
   "source": [
    "### Arbeitsverteilung"
   ]
  },
  {
   "attachments": {},
   "cell_type": "markdown",
   "metadata": {},
   "source": [
    "Für die Arbeitsverteilung wurden die Aufgabe in zwei Hälften gegliedert und diese jeweils verteilt erarbeitet. Bei der Aufgabe 1 war das erste Arbeitspaket die Erstellung des Imports, die Datenbereinigung, Data Splitting, Merkmalsreduktion und das Erstellen des Random Forest Classifier. Das zweite Aufgabenpaket enthielt die Erstellung des k-Means Cluster, das Erstellen der Diagramme und der Evaluation. <br>\n",
    "Bei der Aufgabe 2 hatte das erste Arbeitspaket die Erstellung des Imports, Datenbereinigung, Konzipierung der Architektur, sowie deren Implementierung. Der zweite Aufgabenbereich kümmerte sich um Wahl des Optimizer und Loss-Funktion, deren Evaluierung und Anpassung sowie das Erstellen der weiteren Kurzreport-Artikel. Sobald eine Aufgabe beendet wurde, hatte man sich zu einem Review getroffen, wo Verbesserungsvorschläge ausgetauscht und Fehler korrigiert wurden."
   ]
  },
  {
   "attachments": {},
   "cell_type": "markdown",
   "metadata": {},
   "source": [
    "### Diskussion beider Implementierungsvorgänge"
   ]
  },
  {
   "attachments": {},
   "cell_type": "markdown",
   "metadata": {},
   "source": [
    "Zusammenfassend hat sich herausgestellt, dass die Implementierung eines Deep Learning-Modell deutlich leichter von statten ging, als die merkmalsbasierte ML-Implementierung. Dies hat damit zu tun, dass bei der Implementierung der Aufgabe 1 deutlich mehr Verständnis für das Datenset und die Algorithmen benötigt wurde, als beim DL. In unserer Aufgabe nicht gefordertert aber erwähnenswert, ist die Tatsache, dass die Merkmalsextraktion bei komplizierten Aufgaben sehr zeitaufwendig sein kann und auch öfters mehrere Anstöße braucht, um die richtige Lösung zu finden. Und dennoch musste der Datensatz mehrere male manuell angepasst werden, damit die zur Verfügung gestellten Funktionen von sklearn dies auch richtig verarbeiten können. <br> \n",
    "Bei der Aufgabe 2 wurde mehr nach dem Trial and Error-Prinzip vorgegangen. Die Recherche und der Implementierungsaufwand waren hierfür wesentlich kürzer. Eine wichtige Erkenntnis, die bei der Aufgabenbearbeitung festgestellt wurde, war der Einsatz von Diagrammen. Für uns hat die graphische Darstellung eine bessere Interpretations- und Vergleichsmöglichkeit der Algorithmen-Parameter geben und haben dadurch bessere Anpassungen vornehmen können. <br> \n",
    "Ein Vorteil der merkmalsbasierten ML-Implementierung ist die Verständlichkeit, wie das Modell auf die Entscheidung kommt. So ist man beispielsweise durch das gute Verständnis des k-Mean Klassifikators schnell zur Erkenntnis gekommen, warum die Genauigkeit so gering ist und wieso es für die Aufgabe ungeeignet ist. Beim Deep Learning kennt man den Algorithmus, kann aber (zumindestens wir als Laien) nur sehr schlecht einschätzen wie viele Layer es braucht, wie viele Neuronen geplant werden sollen und ob überhaupt ein Erfolg durch die Vorgehensweise festgestellt werden kann. <br>\n",
    "Eine weitere Beobachtung war aber, dass bei dem Training des DL-Modell bereits die doppelte Rechenzeit festgestellt werden konnte. Beim PCA hatte die Trainingszeit ca 3-5 Sekunden gedauert. Beim unüberwachten Lernverfahren k-Means 0,3-0,8 Sekunden. Das DL-Modell brauchte ca. 9-11 Sekunden. Sollte eine viel größere Aufgabe und/oder ein größerer Datensatz verwendet werden, kann das Problem verstärkt werden und ein einfaches Ausprobieren der Parameter mittels Trial and Error nicht mehr so einfach zu bewerkstelligen sein.\n"
   ]
  }
 ],
 "metadata": {
  "kernelspec": {
   "display_name": "Python 3",
   "language": "python",
   "name": "python3"
  },
  "language_info": {
   "codemirror_mode": {
    "name": "ipython",
    "version": 3
   },
   "file_extension": ".py",
   "mimetype": "text/x-python",
   "name": "python",
   "nbconvert_exporter": "python",
   "pygments_lexer": "ipython3",
   "version": "3.9.13"
  },
  "orig_nbformat": 4,
  "vscode": {
   "interpreter": {
    "hash": "a91eeb8bab173a4aaeb7dd87522d086574e7f0c8b021361e281cdcfe8c9271a2"
   }
  }
 },
 "nbformat": 4,
 "nbformat_minor": 2
}
