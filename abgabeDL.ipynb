{
 "cells": [
  {
   "attachments": {},
   "cell_type": "markdown",
   "metadata": {},
   "source": [
    "# Prüfungsleitung Maschnielles Lernen: Gruppe 8\n",
    "\n",
    "bearbeitet von folgenden Matrikelnummern: 2150648, 8503403 <br>\n",
    "Isolet download: https://datahub.io/machine-learning/isolet"
   ]
  },
  {
   "attachments": {},
   "cell_type": "markdown",
   "metadata": {},
   "source": [
    "In der vorliegenden Prüfungsleistung wurde die Aufgabe gestellt, Buchstaben anhand von Audioaufnahmen zu erkennen. Als Datenset diente eine bereits vorgefertigte Matrix mit 7797 Samples, welches 617 Merkmalen aus den Audioaufnahmen extrahiert hat. Die 617 Merkmale sind Gleitkommazahlen im Wertebereich von -1 bis 1. Das Notebook beinhaltet beide gestellten Aufgaben, sowie den Code und die dazugehörige Dokumentation in Markdown-Boxen. In der ersten Aufgabe handelt es sich um die Erstellung eines Modells mittels überwachter Lernverfahren. Bei der zweiten Aufgabe mittels einem Deep Learning-Modell. <br>\n",
    "Die zu verwendeten Bibliotheken sind folgende:\n",
    "* vorgegebene Bibliotheken: tenserflow, sklearn und numpy\n",
    "* weitere Bibliotheken: pandas, seaborn und matplotlib\n",
    "\n",
    "Der Code wurde mit Python v3.10.8 getestet"
   ]
  },
  {
   "attachments": {},
   "cell_type": "markdown",
   "metadata": {},
   "source": [
    "### Aufgabe 2"
   ]
  },
  {
   "attachments": {},
   "cell_type": "markdown",
   "metadata": {},
   "source": [
    "Lösung durch unüberwachte Lernverfahren."
   ]
  },
  {
   "attachments": {},
   "cell_type": "markdown",
   "metadata": {},
   "source": [
    "#### 1.1) Import und Splitting des Datensatzes"
   ]
  },
  {
   "attachments": {},
   "cell_type": "markdown",
   "metadata": {},
   "source": [
    "##### Import(s)"
   ]
  },
  {
   "cell_type": "code",
   "execution_count": 1,
   "metadata": {},
   "outputs": [],
   "source": [
    "import pandas as pd\n",
    "import matplotlib.pyplot as plt\n",
    "import numpy as np\n",
    "from numpy import argmax\n",
    "import tensorflow as tf\n",
    "from tensorflow.keras.models import Sequential\n",
    "from tensorflow.keras.optimizers import SGD\n",
    "from tensorflow.keras.layers import Dense\n",
    "from tensorflow.keras.metrics import SparseCategoricalAccuracy\n",
    "from sklearn.model_selection import train_test_split\n",
    "from sklearn.preprocessing import LabelEncoder\n",
    "from sklearn.model_selection import KFold\n",
    "import seaborn as sns"
   ]
  },
  {
   "attachments": {},
   "cell_type": "markdown",
   "metadata": {},
   "source": [
    "Das zu importierende Datenset soll den Namen \"raw_isolet.csv\" tragen und im gleichen Pfad, wie das Notebook sein. Zum Zeitpunkt des Herunterladen der Isolet-Datei war die Abgrenzung der Werte durch das Komma-Symbol erfolgt. Sollte sich das geändert haben, muss der Parameter delimeter angepasst werden."
   ]
  },
  {
   "cell_type": "code",
   "execution_count": 2,
   "metadata": {},
   "outputs": [],
   "source": [
    "# import\n",
    "df_raw_isolet = pd.read_csv(\"./raw_isolet.csv\", delimiter=\",\")"
   ]
  },
  {
   "attachments": {},
   "cell_type": "markdown",
   "metadata": {},
   "source": [
    "##### Datenbereinigung"
   ]
  },
  {
   "attachments": {},
   "cell_type": "markdown",
   "metadata": {},
   "source": [
    "Dadurch dass 'class' ein reserviertes Keyword in Python kollidiert es mit der Funktionsmöglichkeit die Spalte über eigene Funktionsaufrufe aufzurufen. Es wurde diesbezüglich zur Spalte 'Letter' umbenannt. Außerdem wurden die String-typischen Anführungszeichen entfernt. <br>\n",
    "Zuletzt wird das Datenset in die Merkmale \"df_features\" und die Buchstaben \"df_letters\" gesplittet."
   ]
  },
  {
   "cell_type": "code",
   "execution_count": 3,
   "metadata": {},
   "outputs": [],
   "source": [
    "# changing column name 'class' to 'letter' 'cause class is a reserved keyword in python \n",
    "df_raw_isolet.rename(columns={'class': 'letter'}, inplace=True)\n",
    "# removing char ' from letter\n",
    "df_raw_isolet['letter'] = df_raw_isolet['letter'].replace({'\\'': ''}, regex=True).astype(float) - 1\n",
    "\n",
    "df_features = df_raw_isolet.iloc[:, :617].to_numpy()\n",
    "df_letters = df_raw_isolet.iloc[:, 617].to_numpy()"
   ]
  },
  {
   "attachments": {},
   "cell_type": "markdown",
   "metadata": {},
   "source": [
    "Zur besseren Einteilung wurde ein Wörterbuch erstellt, welches die Zahlen in die gewünschten Buchstaben umwandelt."
   ]
  },
  {
   "cell_type": "code",
   "execution_count": 4,
   "metadata": {},
   "outputs": [],
   "source": [
    "dict = {\n",
    "    1: 'a',\n",
    "    2: 'b',\n",
    "    3: 'c',\n",
    "    4: 'd',\n",
    "    5: 'e',\n",
    "    6: 'f',\n",
    "    7: 'g',\n",
    "    8: 'h',\n",
    "    9: 'i',\n",
    "    10: 'j',\n",
    "    11: 'k',\n",
    "    12: 'l',\n",
    "    13: 'm',\n",
    "    14: 'n',\n",
    "    15: 'o',\n",
    "    16: 'p',\n",
    "    17: 'q',\n",
    "    18: 'r',\n",
    "    19: 's',\n",
    "    20: 't',\n",
    "    21: 'u',\n",
    "    22: 'v',\n",
    "    23: 'w',\n",
    "    24: 'x',\n",
    "    25: 'y',\n",
    "    26: 'z',\n",
    "}"
   ]
  },
  {
   "attachments": {},
   "cell_type": "markdown",
   "metadata": {},
   "source": [
    "##### Data Splitting"
   ]
  },
  {
   "attachments": {},
   "cell_type": "markdown",
   "metadata": {},
   "source": [
    "Der Datensatz wird nun mit dem gewünschten Verhältnis (test_size) eingeteilt. Damit die Anzahl an Klassen (Buchstaben) gleichmäßig verteilt ist, werden die Datensätze nicht vermischt (shuffle=False). "
   ]
  },
  {
   "cell_type": "code",
   "execution_count": 5,
   "metadata": {},
   "outputs": [],
   "source": [
    "features_train, features_test, letters_train, letters_test = train_test_split(df_features, df_letters, test_size=.25, shuffle=False)"
   ]
  },
  {
   "attachments": {},
   "cell_type": "markdown",
   "metadata": {},
   "source": [
    "#### 2.2) Netzwerkarchitektur"
   ]
  },
  {
   "attachments": {},
   "cell_type": "markdown",
   "metadata": {},
   "source": [
    "Die Herausforderung bei der Wahl der Netzwerkarchitektur ist es die richtige verschiedenen Eigenschaften für das Modell zu finden, wie bspw. die Anzahl der Schichten, Neuronen, Aktivierungsfunktion, etc. <br>\n",
    "Bei der Auswahl der Schichten gilt es darauf zu achten, dass nicht zu wenige implementiert werden, um wichtige Erkenntnisse auch weiterzugeben, sowie nicht zu viele um die Performance gering zu halten und die Gefahr des Overfitting zu vermeiden. In unseren Fall hat das Datenset keine hohe Komplexität und verschiedenste Anzahl an Merkmale, die es zu auszuwerten gilt. Das DL-Modell braucht daher keine aufwendige Netzwerkarchitektur. <br>\n",
    "Da anhand von Float-Werten Klassifiziert werden soll, ist das Feedforward-Neural-Network die beste und einfachste Vorgehensweise. Das die Trainingszeit dieses Modells schnell ist, wie bei manch anderen Aufgaben, konnte man auch das Prinzip des Trial and Error ausnutzen. Man ist Anfangs mit 4 Schichten gestartet (500, 250, 125, 26). Im weiteren Verlauf hat man Schubweise die Anzahl an Schichten und Neuronen gesteigert. Das für uns beste Ergebnis in Sachen Genauigkeit und Dauer hatte die Konstellation (100, 600, 400, 200, 100, 26) ergeben. Man hat sich bei den Schichten zu einem vollvernetzen Deep-Learning-Modell entschieden, da es sich hierbei um ein überwachtes Lernverfahren handelt. Es ist auch gut für den Einsatz, wenn viele Eigenschaften eines Merkmals ausgewertet werden sollen. Es sollte sich bewusst gemacht werden, dass vollvernetzen Deep-Learning-Modelle die Gefahr haben zum Overfitten. <br><br>\n",
    "\n",
    "Bei der Aktivierungsfunktion wurde sich aufgrund der Beliebtheit für die ReLU entschieden. Man hat sicherheitshalber dies auch die (Leaky ReLU)-Funktion getestet. Es haben sich keine messbaren Änderungen herausgestellt und es wurde das ReLU aufgrund der Beliebtheit in der Community vorgezogen. Für die Initialisierung der Neuronen wurde die speziell konzipierte HeNormal-Funktion verwendet. <br>\n",
    "Damit am Ende eine Klassifikation von 26 entsteht soll, wurde bei der letzten Schicht die Aktivierungsfunktion Softmax verwendet.\n",
    "\n"
   ]
  },
  {
   "attachments": {},
   "cell_type": "markdown",
   "metadata": {},
   "source": [
    "#### 2.3) Implementierung"
   ]
  },
  {
   "cell_type": "code",
   "execution_count": 6,
   "metadata": {},
   "outputs": [],
   "source": [
    "# Dimensionen der Trainingsdaten bestimmen\n",
    "in_shape = df_features.shape[1:]\n",
    "\n",
    "model = Sequential()\n",
    "model.add(Dense(1000, activation='relu', kernel_initializer='he_normal', input_shape=in_shape))\n",
    "model.add(Dense(600, activation='relu', kernel_initializer='he_normal'))\n",
    "model.add(Dense(400, activation='relu', kernel_initializer='he_normal'))\n",
    "model.add(Dense(200, activation='relu', kernel_initializer='he_normal'))\n",
    "model.add(Dense(100, activation='relu', kernel_initializer='he_normal'))\n",
    "model.add(Dense(26, activation='softmax'))"
   ]
  },
  {
   "attachments": {},
   "cell_type": "markdown",
   "metadata": {},
   "source": [
    "#### 2.4) Wahl der Loss-Funktion und Optimizer"
   ]
  },
  {
   "attachments": {},
   "cell_type": "markdown",
   "metadata": {},
   "source": [
    "Bei der Wahl der Loss-Funktion bietet Keras zwei für die Klassifikation zwei verschiedene Funktionen an: 'sparse_categorical_crossentropy' und 'categorial_crossentropy'. Da die Labels als Integer definiert sind, wird die Sprase-Funktion verwendet. Für die Wahl des Optimizers haben wir uns auf den beliebtesten Optizimer gemäß der Vorlesung bezogen (Folie 25 Kapitel 7). Dadurch, dass die Lernrate adaptiv angepasst wird, braucht es keine aufwendigen manuellen Einstellungen vorzunehmen. Die Nachteile sind die langsame Konvergenz bei großen Datensätzen und der hohe Speicherbedarf. Dies hat aber für die Größe und Komplexität des Datensatz keine allzu große Auswirkungen. "
   ]
  },
  {
   "cell_type": "code",
   "execution_count": 7,
   "metadata": {},
   "outputs": [],
   "source": [
    "model.compile(optimizer='adam', loss='sparse_categorical_crossentropy', metrics=[SparseCategoricalAccuracy()])"
   ]
  },
  {
   "attachments": {},
   "cell_type": "markdown",
   "metadata": {},
   "source": [
    "Für das Training wurde eine Batch-Size von 512 ausgewählt. Im Gegensatz zu den häufigen Internetquellen, die eine Batch-Size von 32 oder 64 vorschlagen, konnte man aber eine sehr hohe Instabilität der Werte für Genauigkeit und Loss erkennen. Mit dem Wert 265 war die Instabilität zufallsabhängig ab und zu immer noch vorhanden, der Wert 512 war in den Testdurchläufen deutlich besser. Eine höhere Anzahl die Speicheranforderung erhöht in der Regel die Speicheranforderung konnte aber aufgrund der Komplexität des Datensatzes sogar auf einen Business-Laptop unter 20 Sekunden trainiert werden. <br>\n",
    "Bei der Epochenanzahl ist man anfangs mit 50 Epochen gestartet. Durch das folgende Diagramm kam man zum Entschluss dass die Asymptoten schon bei 15 erkennbar ist. Sicherheitshalber, und weil das Training an sich schon kurz ist, wurde ein etwas größerer Wert 30 genommen. "
   ]
  },
  {
   "cell_type": "code",
   "execution_count": 8,
   "metadata": {},
   "outputs": [
    {
     "name": "stdout",
     "output_type": "stream",
     "text": [
      "Epoch 1/30\n",
      "12/12 [==============================] - 1s 35ms/step - loss: 1.9407 - sparse_categorical_accuracy: 0.4563 - val_loss: 0.6227 - val_sparse_categorical_accuracy: 0.7949\n",
      "Epoch 2/30\n",
      "12/12 [==============================] - 0s 24ms/step - loss: 0.5112 - sparse_categorical_accuracy: 0.8148 - val_loss: 0.4228 - val_sparse_categorical_accuracy: 0.8333\n",
      "Epoch 3/30\n",
      "12/12 [==============================] - 0s 24ms/step - loss: 0.3154 - sparse_categorical_accuracy: 0.8909 - val_loss: 0.3061 - val_sparse_categorical_accuracy: 0.8908\n",
      "Epoch 4/30\n",
      "12/12 [==============================] - 0s 24ms/step - loss: 0.2073 - sparse_categorical_accuracy: 0.9340 - val_loss: 0.2234 - val_sparse_categorical_accuracy: 0.9318\n",
      "Epoch 5/30\n",
      "12/12 [==============================] - 0s 24ms/step - loss: 0.1277 - sparse_categorical_accuracy: 0.9619 - val_loss: 0.2080 - val_sparse_categorical_accuracy: 0.9344\n",
      "Epoch 6/30\n",
      "12/12 [==============================] - 0s 24ms/step - loss: 0.0953 - sparse_categorical_accuracy: 0.9740 - val_loss: 0.1836 - val_sparse_categorical_accuracy: 0.9441\n",
      "Epoch 7/30\n",
      "12/12 [==============================] - 0s 25ms/step - loss: 0.0805 - sparse_categorical_accuracy: 0.9733 - val_loss: 0.1525 - val_sparse_categorical_accuracy: 0.9477\n",
      "Epoch 8/30\n",
      "12/12 [==============================] - 0s 25ms/step - loss: 0.0638 - sparse_categorical_accuracy: 0.9814 - val_loss: 0.1538 - val_sparse_categorical_accuracy: 0.9497\n",
      "Epoch 9/30\n",
      "12/12 [==============================] - 0s 26ms/step - loss: 0.0473 - sparse_categorical_accuracy: 0.9873 - val_loss: 0.1725 - val_sparse_categorical_accuracy: 0.9415\n",
      "Epoch 10/30\n",
      "12/12 [==============================] - 0s 25ms/step - loss: 0.0347 - sparse_categorical_accuracy: 0.9914 - val_loss: 0.1511 - val_sparse_categorical_accuracy: 0.9482\n",
      "Epoch 11/30\n",
      "12/12 [==============================] - 0s 25ms/step - loss: 0.0391 - sparse_categorical_accuracy: 0.9884 - val_loss: 0.1867 - val_sparse_categorical_accuracy: 0.9436\n",
      "Epoch 12/30\n",
      "12/12 [==============================] - 0s 26ms/step - loss: 0.0310 - sparse_categorical_accuracy: 0.9916 - val_loss: 0.1455 - val_sparse_categorical_accuracy: 0.9508\n",
      "Epoch 13/30\n",
      "12/12 [==============================] - 0s 27ms/step - loss: 0.0228 - sparse_categorical_accuracy: 0.9937 - val_loss: 0.1450 - val_sparse_categorical_accuracy: 0.9523\n",
      "Epoch 14/30\n",
      "12/12 [==============================] - 0s 26ms/step - loss: 0.0122 - sparse_categorical_accuracy: 0.9983 - val_loss: 0.1355 - val_sparse_categorical_accuracy: 0.9554\n",
      "Epoch 15/30\n",
      "12/12 [==============================] - 0s 25ms/step - loss: 0.0074 - sparse_categorical_accuracy: 0.9993 - val_loss: 0.1367 - val_sparse_categorical_accuracy: 0.9574\n",
      "Epoch 16/30\n",
      "12/12 [==============================] - 0s 32ms/step - loss: 0.0097 - sparse_categorical_accuracy: 0.9985 - val_loss: 0.1717 - val_sparse_categorical_accuracy: 0.9477\n",
      "Epoch 17/30\n",
      "12/12 [==============================] - 0s 25ms/step - loss: 0.0087 - sparse_categorical_accuracy: 0.9981 - val_loss: 0.1678 - val_sparse_categorical_accuracy: 0.9533\n",
      "Epoch 18/30\n",
      "12/12 [==============================] - 0s 25ms/step - loss: 0.0065 - sparse_categorical_accuracy: 0.9990 - val_loss: 0.1604 - val_sparse_categorical_accuracy: 0.9528\n",
      "Epoch 19/30\n",
      "12/12 [==============================] - 0s 25ms/step - loss: 0.0042 - sparse_categorical_accuracy: 0.9998 - val_loss: 0.1645 - val_sparse_categorical_accuracy: 0.9538\n",
      "Epoch 20/30\n",
      "12/12 [==============================] - 0s 26ms/step - loss: 0.0022 - sparse_categorical_accuracy: 1.0000 - val_loss: 0.1443 - val_sparse_categorical_accuracy: 0.9538\n",
      "Epoch 21/30\n",
      "12/12 [==============================] - 0s 25ms/step - loss: 0.0016 - sparse_categorical_accuracy: 1.0000 - val_loss: 0.1468 - val_sparse_categorical_accuracy: 0.9554\n",
      "Epoch 22/30\n",
      "12/12 [==============================] - 0s 26ms/step - loss: 0.0011 - sparse_categorical_accuracy: 1.0000 - val_loss: 0.1551 - val_sparse_categorical_accuracy: 0.9569\n",
      "Epoch 23/30\n",
      "12/12 [==============================] - 0s 27ms/step - loss: 8.8297e-04 - sparse_categorical_accuracy: 1.0000 - val_loss: 0.1486 - val_sparse_categorical_accuracy: 0.9564\n",
      "Epoch 24/30\n",
      "12/12 [==============================] - 0s 29ms/step - loss: 7.4028e-04 - sparse_categorical_accuracy: 1.0000 - val_loss: 0.1533 - val_sparse_categorical_accuracy: 0.9579\n",
      "Epoch 25/30\n",
      "12/12 [==============================] - 0s 28ms/step - loss: 6.7097e-04 - sparse_categorical_accuracy: 1.0000 - val_loss: 0.1522 - val_sparse_categorical_accuracy: 0.9564\n",
      "Epoch 26/30\n",
      "12/12 [==============================] - 0s 27ms/step - loss: 6.1838e-04 - sparse_categorical_accuracy: 1.0000 - val_loss: 0.1552 - val_sparse_categorical_accuracy: 0.9579\n",
      "Epoch 27/30\n",
      "12/12 [==============================] - 0s 26ms/step - loss: 5.6890e-04 - sparse_categorical_accuracy: 1.0000 - val_loss: 0.1551 - val_sparse_categorical_accuracy: 0.9579\n",
      "Epoch 28/30\n",
      "12/12 [==============================] - 0s 27ms/step - loss: 5.2344e-04 - sparse_categorical_accuracy: 1.0000 - val_loss: 0.1565 - val_sparse_categorical_accuracy: 0.9579\n",
      "Epoch 29/30\n",
      "12/12 [==============================] - 0s 26ms/step - loss: 4.9141e-04 - sparse_categorical_accuracy: 1.0000 - val_loss: 0.1561 - val_sparse_categorical_accuracy: 0.9579\n",
      "Epoch 30/30\n",
      "12/12 [==============================] - 0s 27ms/step - loss: 4.6125e-04 - sparse_categorical_accuracy: 1.0000 - val_loss: 0.1583 - val_sparse_categorical_accuracy: 0.9579\n"
     ]
    }
   ],
   "source": [
    "history = model.fit(features_train, letters_train, epochs=30, batch_size=512, verbose=True, validation_data=(features_test, letters_test))"
   ]
  },
  {
   "attachments": {},
   "cell_type": "markdown",
   "metadata": {},
   "source": [
    "#### 2.5) Evaluierung"
   ]
  },
  {
   "attachments": {},
   "cell_type": "markdown",
   "metadata": {},
   "source": [
    "##### Trainingshistorie"
   ]
  },
  {
   "attachments": {},
   "cell_type": "markdown",
   "metadata": {},
   "source": [
    "Damit die Interpretation der ausschlaggebenden Variablen besser interpretierbar ist, wurde ein Lineplot erstellt. Anhand dessen konnte man gut das Training nachvollziehen und Performance einstellungen anpassen und evaluieren. "
   ]
  },
  {
   "cell_type": "code",
   "execution_count": 9,
   "metadata": {},
   "outputs": [
    {
     "name": "stdout",
     "output_type": "stream",
     "text": [
      "Accuracy: 0.9579487442970276, Loss: 0.15830160677433014\n"
     ]
    },
    {
     "data": {
      "image/png": "[encoded data removed]",
      "text/plain": [
       "<Figure size 640x480 with 1 Axes>"
      ]
     },
     "metadata": {},
     "output_type": "display_data"
    }
   ],
   "source": [
    "df_history = pd.DataFrame(history.history).reset_index()\n",
    "df_history.columns = [\"Epoch\", \"loss\", \"accuracy\", \"val_loss\", \"val_accuracy\"]\n",
    "df_history = pd.melt(df_history, id_vars=\"Epoch\", value_vars=[\"loss\", \"accuracy\", \"val_loss\", \"val_accuracy\"])\n",
    "fig = sns.lineplot(df_history, x=\"Epoch\", y=\"value\", hue=\"variable\")\n",
    "fig.set_title(\"Training history\")\n",
    "loss, acc = model.evaluate(features_test, letters_test, verbose=0)\n",
    "print(f\"Accuracy: {acc}, Loss: {loss}\")"
   ]
  },
  {
   "attachments": {},
   "cell_type": "markdown",
   "metadata": {},
   "source": [
    "##### 3-fold cv"
   ]
  },
  {
   "attachments": {},
   "cell_type": "markdown",
   "metadata": {},
   "source": [
    "Der Ansatz der dreifach gefaltete Kreuzvalidierung wurde bereits in der Aufgabe 1 erläutert."
   ]
  },
  {
   "cell_type": "code",
   "execution_count": 10,
   "metadata": {},
   "outputs": [
    {
     "name": "stdout",
     "output_type": "stream",
     "text": [
      "------------------------------------------------------------------------\n",
      "Training for fold 1 ...\n",
      "Score for fold 1: loss of 0.2327396720647812; accuracy of 94.25346255302429%\n",
      "------------------------------------------------------------------------\n",
      "Training for fold 2 ...\n",
      "Score for fold 2: loss of 0.17680418491363525; accuracy of 94.92047429084778%\n",
      "------------------------------------------------------------------------\n",
      "Training for fold 3 ...\n",
      "Score for fold 3: loss of 0.17376573383808136; accuracy of 95.27962803840637%\n",
      "------------------------------------------------------------------------\n"
     ]
    }
   ],
   "source": [
    "# Dimensionen der Trainingsdaten bestimmen\n",
    "in_shape = df_features.shape[1:]\n",
    "\n",
    "kfold = KFold(n_splits=3)\n",
    "acc_per_fold = []\n",
    "loss_per_fold = []\n",
    "\n",
    "# K-fold Cross Validation model evaluation\n",
    "fold_no = 1\n",
    "for train, test in kfold.split(features_train, letters_train):\n",
    "\n",
    "    model = Sequential()\n",
    "    model.add(Dense(1000, activation='relu', kernel_initializer='he_normal', input_shape=in_shape))\n",
    "    model.add(Dense(600, activation='relu', kernel_initializer='he_normal'))\n",
    "    model.add(Dense(400, activation='relu', kernel_initializer='he_normal'))\n",
    "    model.add(Dense(200, activation='relu', kernel_initializer='he_normal'))\n",
    "    model.add(Dense(100, activation='relu', kernel_initializer='he_normal'))\n",
    "    model.add(Dense(26, activation='softmax'))\n",
    "\n",
    "    model.compile(optimizer='adam', loss='sparse_categorical_crossentropy', metrics=[SparseCategoricalAccuracy()])\n",
    "\n",
    "    # Generate a print \n",
    "    print('------------------------------------------------------------------------')\n",
    "    print(f'Training for fold {fold_no} ...')\n",
    "\n",
    "    model.fit(features_train[train], letters_train[train], epochs=30, batch_size=512, verbose=False)\n",
    "    \n",
    "    # Generate generalization metrics\n",
    "    loss, acc = model.evaluate(features_train[test], letters_train[test], verbose=False)\n",
    "    print(f'Score for fold {fold_no}: loss of {loss}; accuracy of {acc*100}%')\n",
    "    acc_per_fold.append(acc * 100)\n",
    "    loss_per_fold.append(loss)\n",
    "\n",
    "    # Increase fold number\n",
    "    fold_no = fold_no + 1\n",
    "    \n",
    "print('------------------------------------------------------------------------')"
   ]
  },
  {
   "cell_type": "code",
   "execution_count": 11,
   "metadata": {},
   "outputs": [
    {
     "name": "stdout",
     "output_type": "stream",
     "text": [
      "------------------------------------------------------------------------\n",
      "Score per fold\n",
      "------------------------------------------------------------------------\n",
      "> Fold 1 - Loss: 0.2327396720647812 - Accuracy: 94.25346255302429%\n",
      "------------------------------------------------------------------------\n",
      "> Fold 2 - Loss: 0.17680418491363525 - Accuracy: 94.92047429084778%\n",
      "------------------------------------------------------------------------\n",
      "> Fold 3 - Loss: 0.17376573383808136 - Accuracy: 95.27962803840637%\n",
      "------------------------------------------------------------------------\n",
      "Average scores for all folds:\n",
      "> Accuracy: 94.81785496075948 (+- 0.4251681596954224)\n",
      "> Loss: 0.19443653027216592\n",
      "------------------------------------------------------------------------\n"
     ]
    }
   ],
   "source": [
    "# == Provide average scores ==\n",
    "print('------------------------------------------------------------------------')\n",
    "print('Score per fold')\n",
    "for i in range(0, len(acc_per_fold)):\n",
    "  print('------------------------------------------------------------------------')\n",
    "  print(f'> Fold {i+1} - Loss: {loss_per_fold[i]} - Accuracy: {acc_per_fold[i]}%')\n",
    "print('------------------------------------------------------------------------')\n",
    "print('Average scores for all folds:')\n",
    "print(f'> Accuracy: {np.mean(acc_per_fold)} (+- {np.std(acc_per_fold)})')\n",
    "print(f'> Loss: {np.mean(loss_per_fold)}')\n",
    "print('------------------------------------------------------------------------')"
   ]
  },
  {
   "attachments": {},
   "cell_type": "markdown",
   "metadata": {},
   "source": [
    "# Weitere Bestandteiles des Kurzreports"
   ]
  },
  {
   "attachments": {},
   "cell_type": "markdown",
   "metadata": {},
   "source": [
    "### Arbeitsverteilung"
   ]
  },
  {
   "cell_type": "markdown",
   "metadata": {},
   "source": []
  },
  {
   "attachments": {},
   "cell_type": "markdown",
   "metadata": {},
   "source": [
    "### Diskussion beider Implementierungsvorgänge"
   ]
  },
  {
   "cell_type": "markdown",
   "metadata": {},
   "source": []
  }
 ],
 "metadata": {
  "kernelspec": {
   "display_name": "Python 3",
   "language": "python",
   "name": "python3"
  },
  "language_info": {
   "codemirror_mode": {
    "name": "ipython",
    "version": 3
   },
   "file_extension": ".py",
   "mimetype": "text/x-python",
   "name": "python",
   "nbconvert_exporter": "python",
   "pygments_lexer": "ipython3",
   "version": "3.10.8"
  },
  "orig_nbformat": 4,
  "vscode": {
   "interpreter": {
    "hash": "6dd69eae55e705b2da1b21fed397856b7f9232722f93735536e7e30961eea810"
   }
  }
 },
 "nbformat": 4,
 "nbformat_minor": 2
}
