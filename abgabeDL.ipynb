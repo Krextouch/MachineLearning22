{
 "cells": [
  {
   "attachments": {},
   "cell_type": "markdown",
   "metadata": {},
   "source": [
    "# Prüfungsleitung Maschnielles Lernen: Gruppe 8\n",
    "\n",
    "bearbeitet von folgenden Matrikelnummern: 2150648, 8503403 <br>\n",
    "Isolet download: https://datahub.io/machine-learning/isolet"
   ]
  },
  {
   "attachments": {},
   "cell_type": "markdown",
   "metadata": {},
   "source": [
    "In der vorliegenden Prüfungsleistung wurde die Aufgabe gestellt, Buchstaben anhand von Audioaufnahmen zu erkennen. Als Datenset diente eine bereits vorgefertigte Matrix mit 7797 Samples, welches 617 Merkmalen aus den Audioaufnahmen extrahiert hat. Die 617 Merkmale sind Gleitkommazahlen im Wertebereich von -1 bis 1. Das Notebook beinhaltet beide gestellten Aufgaben, sowie den Code und die dazugehörige Dokumentation in Markdown-Boxen. In der ersten Aufgabe handelt es sich um die Erstellung eines Modells mittels überwachter Lernverfahren. Bei der zweiten Aufgabe mittels einem Deep Learning-Modell. <br>\n",
    "Die zu verwendeten Bibliotheken sind folgende:\n",
    "* vorgegebene Bibliotheken: tensorflow, sklearn und numpy\n",
    "* weitere Bibliotheken: pandas, seaborn und matplotlib\n",
    "\n",
    "Der Code wurde mit Python v3.10.8 getestet"
   ]
  },
  {
   "attachments": {},
   "cell_type": "markdown",
   "metadata": {},
   "source": [
    "### Aufgabe 2"
   ]
  },
  {
   "attachments": {},
   "cell_type": "markdown",
   "metadata": {},
   "source": [
    "Lösung durch Deep Learning."
   ]
  },
  {
   "attachments": {},
   "cell_type": "markdown",
   "metadata": {},
   "source": [
    "#### 1.1) Import und Splitting des Datensatzes"
   ]
  },
  {
   "attachments": {},
   "cell_type": "markdown",
   "metadata": {},
   "source": [
    "##### Import(s)"
   ]
  },
  {
   "cell_type": "code",
   "execution_count": 12,
   "metadata": {},
   "outputs": [],
   "source": [
    "import pandas as pd\n",
    "import matplotlib.pyplot as plt\n",
    "import numpy as np\n",
    "from numpy import argmax\n",
    "import tensorflow as tf\n",
    "from tensorflow.keras.models import Sequential\n",
    "from tensorflow.keras.optimizers import SGD\n",
    "from tensorflow.keras.layers import Dense\n",
    "from tensorflow.keras.metrics import SparseCategoricalAccuracy\n",
    "from sklearn.model_selection import train_test_split\n",
    "from sklearn.preprocessing import LabelEncoder\n",
    "from sklearn.model_selection import KFold\n",
    "import seaborn as sns"
   ]
  },
  {
   "attachments": {},
   "cell_type": "markdown",
   "metadata": {},
   "source": [
    "Das zu importierende Datenset soll den Namen \"raw_isolet.csv\" tragen und im gleichen Pfad, wie das Notebook sein. Zum Zeitpunkt des Herunterladen der Isolet-Datei war die Abgrenzung der Werte durch das Komma-Symbol erfolgt. Sollte sich das geändert haben, muss der Parameter delimeter angepasst werden."
   ]
  },
  {
   "cell_type": "code",
   "execution_count": 13,
   "metadata": {},
   "outputs": [],
   "source": [
    "# import\n",
    "df_raw_isolet = pd.read_csv(\"./raw_isolet.csv\", delimiter=\",\")"
   ]
  },
  {
   "attachments": {},
   "cell_type": "markdown",
   "metadata": {},
   "source": [
    "##### Datenbereinigung"
   ]
  },
  {
   "attachments": {},
   "cell_type": "markdown",
   "metadata": {},
   "source": [
    "Um Unklarheiten zu umgehen, wurde die Spalte 'Class' in 'Letter' umbenannt. <br>\n",
    "Außerdem wurden die String-typischen Anführungszeichen entfernt. <br>\n",
    "Zuletzt wird das Datenset in die Merkmale \"df_features\" und die Buchstaben \"df_letters\" gesplittet."
   ]
  },
  {
   "cell_type": "code",
   "execution_count": 14,
   "metadata": {},
   "outputs": [],
   "source": [
    "# changing column name 'class' to 'letter' 'cause class is a reserved keyword in python \n",
    "df_raw_isolet.rename(columns={'class': 'letter'}, inplace=True)\n",
    "# removing char ' from letter\n",
    "df_raw_isolet['letter'] = df_raw_isolet['letter'].replace({'\\'': ''}, regex=True).astype(float) - 1\n",
    "\n",
    "df_features = df_raw_isolet.iloc[:, :617].to_numpy()\n",
    "df_letters = df_raw_isolet.iloc[:, 617].to_numpy()"
   ]
  },
  {
   "attachments": {},
   "cell_type": "markdown",
   "metadata": {},
   "source": [
    "##### Data Splitting"
   ]
  },
  {
   "attachments": {},
   "cell_type": "markdown",
   "metadata": {},
   "source": [
    "Der Datensatz wird nun mit dem gewünschten Verhältnis (test_size) eingeteilt. Da die Daten geordnet sind, werden diese auch ohne shuffle gleichmäßig verteilt (shuffle=False). "
   ]
  },
  {
   "cell_type": "code",
   "execution_count": 15,
   "metadata": {},
   "outputs": [],
   "source": [
    "features_train, features_test, letters_train, letters_test = train_test_split(df_features, df_letters, test_size=.25, shuffle=False)"
   ]
  },
  {
   "attachments": {},
   "cell_type": "markdown",
   "metadata": {},
   "source": [
    "#### 2.2) Netzwerkarchitektur"
   ]
  },
  {
   "attachments": {},
   "cell_type": "markdown",
   "metadata": {},
   "source": [
    "Die Herausforderung bei der Wahl der Netzwerkarchitektur ist es die richtige verschiedenen Eigenschaften für das Modell zu finden, wie bspw. die Anzahl der Schichten, Neuronen, Aktivierungsfunktion, etc. <br>\n",
    "Bei der Auswahl der Schichten gilt es darauf zu achten, dass nicht zu wenige implementiert werden, um wichtige Erkenntnisse auch weiterzugeben, sowie nicht zu viele um die Performance gering zu halten und die Gefahr des Overfitting zu vermeiden. In unseren Fall hat das Datenset keine hohe Komplexität und verschiedenste Anzahl an Merkmale, die es zu auszuwerten gilt. Das DL-Modell braucht daher keine aufwendige Netzwerkarchitektur. <br>\n",
    "Da anhand von Float-Werten Klassifiziert werden soll, ist das Feedforward-Neural-Network die beste und einfachste Vorgehensweise. Das die Trainingszeit dieses Modells schnell ist, wie bei manch anderen Aufgaben, konnte man auch das Prinzip des Trial and Error ausnutzen. Man ist Anfangs mit 4 Schichten gestartet (500, 250, 125, 26). Im weiteren Verlauf hat man Schubweise die Anzahl an Schichten und Neuronen gesteigert. Das für uns beste Ergebnis in Sachen Genauigkeit und Dauer hatte die Konstellation (1000, 600, 400, 200, 100, 26) ergeben. Man hat sich bei den Schichten zu einem vollvernetzen Deep-Learning-Modell entschieden, da es sich hierbei um ein überwachtes Lernverfahren handelt. Es ist auch gut für den Einsatz, wenn viele Eigenschaften eines Merkmals ausgewertet werden sollen. Es sollte sich bewusst gemacht werden, dass vollvernetzen Deep-Learning-Modelle die Gefahr haben zum Overfitten. <br><br>\n",
    "\n",
    "Bei der Aktivierungsfunktion wurde sich aufgrund der Beliebtheit für die ReLU entschieden. Man hat sicherheitshalber dies auch die (Leaky ReLU)-Funktion getestet. Es haben sich keine messbaren Änderungen herausgestellt und es wurde das ReLU aufgrund der Beliebtheit in der Community vorgezogen. Für die Initialisierung der Neuronen wurde die speziell konzipierte HeNormal-Funktion verwendet. <br>\n",
    "Damit am Ende eine Klassifikation von 26 entsteht soll, wurde bei der letzten Schicht die Aktivierungsfunktion Softmax verwendet.\n",
    "\n"
   ]
  },
  {
   "attachments": {},
   "cell_type": "markdown",
   "metadata": {},
   "source": [
    "#### 2.3) Implementierung"
   ]
  },
  {
   "cell_type": "code",
   "execution_count": 16,
   "metadata": {},
   "outputs": [],
   "source": [
    "# Dimensionen der Trainingsdaten bestimmen\n",
    "in_shape = df_features.shape[1:]\n",
    "\n",
    "model = Sequential()\n",
    "model.add(Dense(1000, activation='relu', kernel_initializer='he_normal', input_shape=in_shape))\n",
    "model.add(Dense(600, activation='relu', kernel_initializer='he_normal'))\n",
    "model.add(Dense(400, activation='relu', kernel_initializer='he_normal'))\n",
    "model.add(Dense(200, activation='relu', kernel_initializer='he_normal'))\n",
    "model.add(Dense(100, activation='relu', kernel_initializer='he_normal'))\n",
    "model.add(Dense(26, activation='softmax'))"
   ]
  },
  {
   "attachments": {},
   "cell_type": "markdown",
   "metadata": {},
   "source": [
    "#### 2.4) Wahl der Loss-Funktion und Optimizer"
   ]
  },
  {
   "attachments": {},
   "cell_type": "markdown",
   "metadata": {},
   "source": [
    "Bei der Wahl der Loss-Funktion bietet Keras zwei verschiedene Funktionen für die Klassifikation an: 'sparse_categorical_crossentropy' und 'categorial_crossentropy'. Da die Labels als Integer definiert sind, wird die Sprase-Funktion verwendet. Für die Wahl des Optimizers haben wir uns auf den beliebtesten Optizimer gemäß der Vorlesung bezogen (Folie 25 Kapitel 7). Dadurch, dass die Lernrate adaptiv angepasst wird, braucht es keine aufwendigen manuellen Einstellungen vorzunehmen. Die Nachteile sind die langsame Konvergenz bei großen Datensätzen und der hohe Speicherbedarf. Dies hat aber für die Größe und Komplexität des Datensatz keine allzu große Auswirkungen. "
   ]
  },
  {
   "cell_type": "code",
   "execution_count": 17,
   "metadata": {},
   "outputs": [],
   "source": [
    "model.compile(optimizer='adam', loss='sparse_categorical_crossentropy', metrics=[SparseCategoricalAccuracy()])"
   ]
  },
  {
   "attachments": {},
   "cell_type": "markdown",
   "metadata": {},
   "source": [
    "Für das Training wurde eine Batch-Size von 512 ausgewählt. Im Gegensatz zu den häufigen Internetquellen, die eine Batch-Size von 32 oder 64 vorschlagen, konnte man aber eine sehr hohe Instabilität der Werte für Genauigkeit und Loss erkennen. Mit dem Wert 265 war die Instabilität zufallsabhängig ab und zu immer noch vorhanden, der Wert 512 war in den Testdurchläufen deutlich besser. Eine höhere Anzahl die Speicheranforderung erhöht in der Regel die Speicheranforderung konnte aber aufgrund der Komplexität des Datensatzes sogar auf einen Business-Laptop unter 20 Sekunden trainiert werden. <br>\n",
    "Bei der Epochenanzahl ist man anfangs mit 50 Epochen gestartet. Durch das folgende Diagramm kam man zum Entschluss dass die Asymptoten schon bei 15 erkennbar ist. Sicherheitshalber, und weil das Training an sich schon kurz ist, wurde ein etwas größerer Wert 30 genommen. "
   ]
  },
  {
   "cell_type": "code",
   "execution_count": 18,
   "metadata": {},
   "outputs": [
    {
     "name": "stdout",
     "output_type": "stream",
     "text": [
      "Epoch 1/30\n",
      "12/12 [==============================] - 1s 35ms/step - loss: 1.9376 - sparse_categorical_accuracy: 0.4609 - val_loss: 0.8177 - val_sparse_categorical_accuracy: 0.6867\n",
      "Epoch 2/30\n",
      "12/12 [==============================] - 0s 24ms/step - loss: 0.5511 - sparse_categorical_accuracy: 0.8102 - val_loss: 0.4024 - val_sparse_categorical_accuracy: 0.8569\n",
      "Epoch 3/30\n",
      "12/12 [==============================] - 0s 24ms/step - loss: 0.2642 - sparse_categorical_accuracy: 0.9162 - val_loss: 0.2586 - val_sparse_categorical_accuracy: 0.9169\n",
      "Epoch 4/30\n",
      "12/12 [==============================] - 0s 24ms/step - loss: 0.1690 - sparse_categorical_accuracy: 0.9449 - val_loss: 0.2164 - val_sparse_categorical_accuracy: 0.9323\n",
      "Epoch 5/30\n",
      "12/12 [==============================] - 0s 26ms/step - loss: 0.1157 - sparse_categorical_accuracy: 0.9666 - val_loss: 0.2150 - val_sparse_categorical_accuracy: 0.9272\n",
      "Epoch 6/30\n",
      "12/12 [==============================] - 0s 25ms/step - loss: 0.0985 - sparse_categorical_accuracy: 0.9687 - val_loss: 0.2214 - val_sparse_categorical_accuracy: 0.9277\n",
      "Epoch 7/30\n",
      "12/12 [==============================] - 0s 24ms/step - loss: 0.0763 - sparse_categorical_accuracy: 0.9769 - val_loss: 0.1848 - val_sparse_categorical_accuracy: 0.9446\n",
      "Epoch 8/30\n",
      "12/12 [==============================] - 0s 24ms/step - loss: 0.0577 - sparse_categorical_accuracy: 0.9827 - val_loss: 0.1527 - val_sparse_categorical_accuracy: 0.9533\n",
      "Epoch 9/30\n",
      "12/12 [==============================] - 0s 24ms/step - loss: 0.0548 - sparse_categorical_accuracy: 0.9836 - val_loss: 0.3188 - val_sparse_categorical_accuracy: 0.9185\n",
      "Epoch 10/30\n",
      "12/12 [==============================] - 0s 24ms/step - loss: 0.0601 - sparse_categorical_accuracy: 0.9844 - val_loss: 0.1566 - val_sparse_categorical_accuracy: 0.9503\n",
      "Epoch 11/30\n",
      "12/12 [==============================] - 0s 24ms/step - loss: 0.0382 - sparse_categorical_accuracy: 0.9906 - val_loss: 0.1889 - val_sparse_categorical_accuracy: 0.9446\n",
      "Epoch 12/30\n",
      "12/12 [==============================] - 0s 24ms/step - loss: 0.0399 - sparse_categorical_accuracy: 0.9891 - val_loss: 0.1748 - val_sparse_categorical_accuracy: 0.9487\n",
      "Epoch 13/30\n",
      "12/12 [==============================] - 0s 26ms/step - loss: 0.0370 - sparse_categorical_accuracy: 0.9882 - val_loss: 0.1665 - val_sparse_categorical_accuracy: 0.9533\n",
      "Epoch 14/30\n",
      "12/12 [==============================] - 0s 24ms/step - loss: 0.0213 - sparse_categorical_accuracy: 0.9952 - val_loss: 0.1738 - val_sparse_categorical_accuracy: 0.9508\n",
      "Epoch 15/30\n",
      "12/12 [==============================] - 0s 24ms/step - loss: 0.0143 - sparse_categorical_accuracy: 0.9974 - val_loss: 0.1830 - val_sparse_categorical_accuracy: 0.9533\n",
      "Epoch 16/30\n",
      "12/12 [==============================] - 0s 25ms/step - loss: 0.0082 - sparse_categorical_accuracy: 0.9990 - val_loss: 0.1590 - val_sparse_categorical_accuracy: 0.9564\n",
      "Epoch 17/30\n",
      "12/12 [==============================] - 0s 25ms/step - loss: 0.0057 - sparse_categorical_accuracy: 0.9998 - val_loss: 0.1555 - val_sparse_categorical_accuracy: 0.9549\n",
      "Epoch 18/30\n",
      "12/12 [==============================] - 0s 25ms/step - loss: 0.0052 - sparse_categorical_accuracy: 0.9993 - val_loss: 0.1588 - val_sparse_categorical_accuracy: 0.9569\n",
      "Epoch 19/30\n",
      "12/12 [==============================] - 0s 25ms/step - loss: 0.0028 - sparse_categorical_accuracy: 1.0000 - val_loss: 0.1604 - val_sparse_categorical_accuracy: 0.9585\n",
      "Epoch 20/30\n",
      "12/12 [==============================] - 0s 26ms/step - loss: 0.0017 - sparse_categorical_accuracy: 1.0000 - val_loss: 0.1634 - val_sparse_categorical_accuracy: 0.9595\n",
      "Epoch 21/30\n",
      "12/12 [==============================] - 0s 26ms/step - loss: 0.0013 - sparse_categorical_accuracy: 1.0000 - val_loss: 0.1658 - val_sparse_categorical_accuracy: 0.9564\n",
      "Epoch 22/30\n",
      "12/12 [==============================] - 0s 25ms/step - loss: 0.0011 - sparse_categorical_accuracy: 1.0000 - val_loss: 0.1663 - val_sparse_categorical_accuracy: 0.9569\n",
      "Epoch 23/30\n",
      "12/12 [==============================] - 0s 26ms/step - loss: 9.3792e-04 - sparse_categorical_accuracy: 1.0000 - val_loss: 0.1644 - val_sparse_categorical_accuracy: 0.9574\n",
      "Epoch 24/30\n",
      "12/12 [==============================] - 0s 26ms/step - loss: 8.1695e-04 - sparse_categorical_accuracy: 1.0000 - val_loss: 0.1682 - val_sparse_categorical_accuracy: 0.9579\n",
      "Epoch 25/30\n",
      "12/12 [==============================] - 0s 26ms/step - loss: 7.5185e-04 - sparse_categorical_accuracy: 1.0000 - val_loss: 0.1664 - val_sparse_categorical_accuracy: 0.9585\n",
      "Epoch 26/30\n",
      "12/12 [==============================] - 0s 25ms/step - loss: 7.0735e-04 - sparse_categorical_accuracy: 1.0000 - val_loss: 0.1697 - val_sparse_categorical_accuracy: 0.9585\n",
      "Epoch 27/30\n",
      "12/12 [==============================] - 0s 26ms/step - loss: 6.6884e-04 - sparse_categorical_accuracy: 1.0000 - val_loss: 0.1692 - val_sparse_categorical_accuracy: 0.9590\n",
      "Epoch 28/30\n",
      "12/12 [==============================] - 0s 26ms/step - loss: 6.0748e-04 - sparse_categorical_accuracy: 1.0000 - val_loss: 0.1691 - val_sparse_categorical_accuracy: 0.9595\n",
      "Epoch 29/30\n",
      "12/12 [==============================] - 0s 27ms/step - loss: 5.6395e-04 - sparse_categorical_accuracy: 1.0000 - val_loss: 0.1735 - val_sparse_categorical_accuracy: 0.9579\n",
      "Epoch 30/30\n",
      "12/12 [==============================] - 0s 27ms/step - loss: 5.2959e-04 - sparse_categorical_accuracy: 1.0000 - val_loss: 0.1711 - val_sparse_categorical_accuracy: 0.9590\n"
     ]
    }
   ],
   "source": [
    "history = model.fit(features_train, letters_train, epochs=30, batch_size=512, verbose=True, validation_data=(features_test, letters_test))"
   ]
  },
  {
   "attachments": {},
   "cell_type": "markdown",
   "metadata": {},
   "source": [
    "#### 2.5) Evaluierung"
   ]
  },
  {
   "attachments": {},
   "cell_type": "markdown",
   "metadata": {},
   "source": [
    "##### Trainingshistorie"
   ]
  },
  {
   "attachments": {},
   "cell_type": "markdown",
   "metadata": {},
   "source": [
    "Damit die Interpretation der ausschlaggebenden Variablen besser interpretierbar ist, wurde ein Lineplot erstellt. Anhand dessen konnte man gut das Training nachvollziehen und Performance einstellungen anpassen und evaluieren. "
   ]
  },
  {
   "cell_type": "code",
   "execution_count": 19,
   "metadata": {},
   "outputs": [],
   "source": [
    "def create_training_graph(history):\n",
    "    df_history = pd.DataFrame(history.history).reset_index()\n",
    "    df_history.columns = [\"Epoch\", \"loss\", \"accuracy\", \"val_loss\", \"val_accuracy\"]\n",
    "    df_history = pd.melt(df_history, id_vars=\"Epoch\", value_vars=[\"loss\", \"accuracy\", \"val_loss\", \"val_accuracy\"])\n",
    "    fig = sns.lineplot(df_history, x=\"Epoch\", y=\"value\", hue=\"variable\")\n",
    "    fig.set_title(\"Training history\")\n",
    "    return fig"
   ]
  },
  {
   "attachments": {},
   "cell_type": "markdown",
   "metadata": {},
   "source": [
    "Evaluation der Implementierung in der 2.4)"
   ]
  },
  {
   "cell_type": "code",
   "execution_count": 20,
   "metadata": {},
   "outputs": [
    {
     "name": "stdout",
     "output_type": "stream",
     "text": [
      "Accuracy: 0.9589743614196777, Loss: 0.17109210789203644\n"
     ]
    },
    {
     "data": {
      "image/png": "[encoded data removed]",
      "text/plain": [
       "<Figure size 640x480 with 1 Axes>"
      ]
     },
     "metadata": {},
     "output_type": "display_data"
    }
   ],
   "source": [
    "fig = create_training_graph(history)\n",
    "loss, acc = model.evaluate(features_test, letters_test, verbose=0)\n",
    "print(f\"Accuracy: {acc}, Loss: {loss}\")"
   ]
  },
  {
   "attachments": {},
   "cell_type": "markdown",
   "metadata": {},
   "source": [
    "##### 3-fold cv"
   ]
  },
  {
   "attachments": {},
   "cell_type": "markdown",
   "metadata": {},
   "source": [
    "Der Ansatz der dreifach gefaltete Kreuzvalidierung wurde bereits in der Aufgabe 1 erläutert."
   ]
  },
  {
   "cell_type": "code",
   "execution_count": 24,
   "metadata": {},
   "outputs": [
    {
     "name": "stdout",
     "output_type": "stream",
     "text": [
      "------------------------------------------------------------------------\n",
      "Training for fold 1 ...\n",
      "Score for fold 1: loss of 0.2572479844093323; accuracy of 94.25346255302429%\n",
      "------------------------------------------------------------------------\n",
      "Training for fold 2 ...\n",
      "Score for fold 2: loss of 0.18755581974983215; accuracy of 94.97178196907043%\n",
      "------------------------------------------------------------------------\n",
      "Training for fold 3 ...\n",
      "Score for fold 3: loss of 0.18345801532268524; accuracy of 95.17701268196106%\n",
      "------------------------------------------------------------------------\n"
     ]
    }
   ],
   "source": [
    "# Dimensionen der Trainingsdaten bestimmen\n",
    "in_shape = df_features.shape[1:]\n",
    "\n",
    "kfold = KFold(n_splits=3)\n",
    "acc_per_fold = []\n",
    "loss_per_fold = []\n",
    "\n",
    "# K-fold Cross Validation model evaluation\n",
    "fold_no = 1\n",
    "for train, test in kfold.split(features_train, letters_train):\n",
    "\n",
    "    model = Sequential()\n",
    "    model.add(Dense(1000, activation='relu', kernel_initializer='he_normal', input_shape=in_shape))\n",
    "    model.add(Dense(600, activation='relu', kernel_initializer='he_normal'))\n",
    "    model.add(Dense(400, activation='relu', kernel_initializer='he_normal'))\n",
    "    model.add(Dense(200, activation='relu', kernel_initializer='he_normal'))\n",
    "    model.add(Dense(100, activation='relu', kernel_initializer='he_normal'))\n",
    "    model.add(Dense(26, activation='softmax'))\n",
    "\n",
    "    model.compile(optimizer='adam', loss='sparse_categorical_crossentropy', metrics=[SparseCategoricalAccuracy()])\n",
    "\n",
    "    # Generate a print \n",
    "    print('------------------------------------------------------------------------')\n",
    "    print(f'Training for fold {fold_no} ...')\n",
    "\n",
    "    history = model.fit(features_train[train], letters_train[train], epochs=30, batch_size=512, verbose=False)\n",
    "    \n",
    "    # # Generate generalization metrics\n",
    "    loss, acc = model.evaluate(features_train[test], letters_train[test], verbose=False)\n",
    "    print(f'Score for fold {fold_no}: loss of {loss}; accuracy of {acc*100}%')\n",
    "    acc_per_fold.append(acc * 100)\n",
    "    loss_per_fold.append(loss)\n",
    "\n",
    "    # Increase fold number\n",
    "    fold_no = fold_no + 1\n",
    "    \n",
    "print('------------------------------------------------------------------------')"
   ]
  },
  {
   "cell_type": "code",
   "execution_count": 25,
   "metadata": {},
   "outputs": [
    {
     "name": "stdout",
     "output_type": "stream",
     "text": [
      "------------------------------------------------------------------------\n",
      "Score per fold\n",
      "------------------------------------------------------------------------\n",
      "> Fold 1 - Loss: 0.2572479844093323 - Accuracy: 94.25346255302429%\n",
      "------------------------------------------------------------------------\n",
      "> Fold 2 - Loss: 0.18755581974983215 - Accuracy: 94.97178196907043%\n",
      "------------------------------------------------------------------------\n",
      "> Fold 3 - Loss: 0.18345801532268524 - Accuracy: 95.17701268196106%\n",
      "------------------------------------------------------------------------\n",
      "Average scores for all folds:\n",
      "> Accuracy: 94.80075240135193 (+- 0.3959583689735275)\n",
      "> Loss: 0.2094206064939499\n",
      "------------------------------------------------------------------------\n"
     ]
    }
   ],
   "source": [
    "# == Provide average scores ==\n",
    "print('------------------------------------------------------------------------')\n",
    "print('Score per fold')\n",
    "for i in range(0, len(acc_per_fold)):\n",
    "  print('------------------------------------------------------------------------')\n",
    "  print(f'> Fold {i+1} - Loss: {loss_per_fold[i]} - Accuracy: {acc_per_fold[i]}%')\n",
    "print('------------------------------------------------------------------------')\n",
    "print('Average scores for all folds:')\n",
    "print(f'> Accuracy: {np.mean(acc_per_fold)} (+- {np.std(acc_per_fold)})')\n",
    "print(f'> Loss: {np.mean(loss_per_fold)}')\n",
    "print('------------------------------------------------------------------------')"
   ]
  },
  {
   "attachments": {},
   "cell_type": "markdown",
   "metadata": {},
   "source": [
    "Mit einer Genauigkeit von ca. 95% ist das Modell sehr gut gelungen. Es hat eine bessere Genauigkeit als, die der Aufgabe 1. "
   ]
  },
  {
   "attachments": {},
   "cell_type": "markdown",
   "metadata": {},
   "source": [
    "# Weitere Bestandteiles des Kurzreports"
   ]
  },
  {
   "attachments": {},
   "cell_type": "markdown",
   "metadata": {},
   "source": [
    "### Arbeitsverteilung"
   ]
  },
  {
   "attachments": {},
   "cell_type": "markdown",
   "metadata": {},
   "source": [
    "Für die Arbeitsverteilung wurden die Aufgabe in zwei Hälften gegliedert und diese jeweils verteilt erarbeitet. Bei der Aufgabe 1 war das erste Arbeitspaket die Erstellung des Imports, die Datenbereinigung, Data Splitting, Merkmalsreduktion und das Erstellen des Random Forest Classifier. Das zweite Aufgabenpaket enthielt die Erstellung des k-Means Cluster, das Erstellen der Diagramme und der Evaluation. <br>\n",
    "Bei der Aufgabe 2 hatte das erste Arbeitspaket die Erstellung des Imports, Datenbereinigung, Konzipierung der Architektur, sowie deren Implementierung. Der zweite Aufgabenbereich kümmerte sich um Wahl des Optimizer und Loss-Funktion, deren Evaluierung und Anpassung sowie das Erstellen der weiteren Kurzreport-Artikel. Sobald eine Aufgabe beendet wurde, hatte man sich zu einem Review getroffen, wo Verbesserungsvorschläge ausgetauscht und Fehler korrigiert wurden."
   ]
  },
  {
   "attachments": {},
   "cell_type": "markdown",
   "metadata": {},
   "source": [
    "### Diskussion beider Implementierungsvorgänge"
   ]
  },
  {
   "attachments": {},
   "cell_type": "markdown",
   "metadata": {},
   "source": [
    "Zusammenfassend hat sich herausgestellt, dass die Implementierung eines Deep Learning-Modell deutlich leichter von statten ging, als die merkmalsbasierte ML-Implementierung. Dies hat damit zu tun, dass bei der Implementierung der Aufgabe 1 deutlich mehr Verständnis für das Datenset und die Algorithmen benötigt wurde, als beim DL. In unserer Aufgabe nicht gefordertert aber erwähnenswert, ist die Tatsache, dass die Merkmalsextraktion bei komplizierten Aufgaben sehr zeitaufwendig sein kann und auch öfters mehrere Anstöße braucht, um die richtige Lösung zu finden. Und dennoch musste der Datensatz mehrere male manuell angepasst werden, damit die zur Verfügung gestellten Funktionen von sklearn dies auch richtig verarbeiten können. <br> \n",
    "Bei der Aufgabe 2 wurde mehr nach dem Trial and Error-Prinzip vorgegangen. Die Recherche und der Implementierungsaufwand waren hierfür wesentlich kürzer. Eine wichtige Erkenntnis, die bei der Aufgabenbearbeitung festgestellt wurde, war der Einsatz von Diagrammen. Für uns hat die graphische Darstellung eine bessere Interpretations- und Vergleichsmöglichkeit der Algorithmen-Parameter geben und haben dadurch bessere Anpassungen vornehmen können. <br> \n",
    "Ein Vorteil der merkmalsbasierten ML-Implementierung ist die Verständlichkeit, wie das Modell auf die Entscheidung kommt. So ist man beispielsweise durch das gute Verständnis des k-Mean Klassifikators schnell zur Erkenntnis gekommen, warum die Genauigkeit so gering ist und wieso es für die Aufgabe ungeeignet ist. Beim Deep Learning kennt man den Algorithmus, kann aber (zumindestens wir als Laien) nur sehr schlecht einschätzen wie viele Layer es braucht, wie viele Neuronen geplant werden sollen und ob überhaupt ein Erfolg durch die Vorgehensweise festgestellt werden kann. <br>\n",
    "Eine weitere Beobachtung war aber, dass bei dem Training des DL-Modell bereits die doppelte Rechenzeit festgestellt werden konnte. Beim PCA hatte die Trainingszeit ca 3-5 Sekunden gedauert. Beim unüberwachten Lernverfahren k-Means 0,3-0,8 Sekunden. Das DL-Modell brauchte ca. 9-11 Sekunden. Sollte eine viel größere Aufgabe und/oder ein größerer Datensatz verwendet werden, kann das Problem verstärkt werden und ein einfaches Ausprobieren der Parameter mittels Trial and Error nicht mehr so einfach zu bewerkstelligen sein.\n"
   ]
  }
 ],
 "metadata": {
  "kernelspec": {
   "display_name": "Python 3",
   "language": "python",
   "name": "python3"
  },
  "language_info": {
   "codemirror_mode": {
    "name": "ipython",
    "version": 3
   },
   "file_extension": ".py",
   "mimetype": "text/x-python",
   "name": "python",
   "nbconvert_exporter": "python",
   "pygments_lexer": "ipython3",
   "version": "3.10.8"
  },
  "orig_nbformat": 4,
  "vscode": {
   "interpreter": {
    "hash": "6dd69eae55e705b2da1b21fed397856b7f9232722f93735536e7e30961eea810"
   }
  }
 },
 "nbformat": 4,
 "nbformat_minor": 2
}
