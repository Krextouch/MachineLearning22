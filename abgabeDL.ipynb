{
 "cells": [
  {
   "attachments": {},
   "cell_type": "markdown",
   "metadata": {},
   "source": [
    "# Prüfungsleitung Maschnielles Lernen: Gruppe 8\n",
    "\n",
    "bearbeitet von folgenden Matrikelnummern: 2150648, 8503403 <br>\n",
    "Isolet download: https://datahub.io/machine-learning/isolet"
   ]
  },
  {
   "attachments": {},
   "cell_type": "markdown",
   "metadata": {},
   "source": [
    "In der vorliegenden Prüfungsleistung wurde die Aufgabe gestellt, Buchstaben anhand von Audioaufnahmen zu erkennen. Als Datenset diente eine bereits vorgefertigte Matrix mit 7797 Samples, welches 617 Merkmalen aus den Audioaufnahmen extrahiert hat. Die 617 Merkmale sind Gleitkommazahlen im Wertebereich von -1 bis 1. Das Notebook beinhaltet beide gestellten Aufgaben, sowie den Code und die dazugehörige Dokumentation in Markdown-Boxen. In der ersten Aufgabe handelt es sich um die Erstellung eines Modells mittels überwachter Lernverfahren. Bei der zweiten Aufgabe mittels einem Deep Learning-Modell. <br>\n",
    "Die zu verwendeten Bibliotheken sind folgende:\n",
    "* vorgegebene Bibliotheken: tenserflow, sklearn und numpy\n",
    "* weitere Bibliotheken: pandas, seaborn und matplotlib\n",
    "\n",
    "Der Code wurde mit Python v3.10.8 getestet"
   ]
  },
  {
   "attachments": {},
   "cell_type": "markdown",
   "metadata": {},
   "source": [
    "### Aufgabe 2"
   ]
  },
  {
   "attachments": {},
   "cell_type": "markdown",
   "metadata": {},
   "source": [
    "Lösung durch unüberwachte Lernverfahren."
   ]
  },
  {
   "attachments": {},
   "cell_type": "markdown",
   "metadata": {},
   "source": [
    "#### 1.1) Import und Splitting des Datensatzes"
   ]
  },
  {
   "attachments": {},
   "cell_type": "markdown",
   "metadata": {},
   "source": [
    "##### Import(s)"
   ]
  },
  {
   "cell_type": "code",
   "execution_count": 1,
   "metadata": {},
   "outputs": [],
   "source": [
    "import pandas as pd\n",
    "import matplotlib.pyplot as plt\n",
    "import numpy as np\n",
    "from numpy import argmax\n",
    "import tensorflow as tf\n",
    "from tensorflow.keras.models import Sequential\n",
    "from tensorflow.keras.optimizers import SGD\n",
    "from tensorflow.keras.layers import Dense\n",
    "from tensorflow.keras.metrics import SparseCategoricalAccuracy\n",
    "from sklearn.model_selection import train_test_split\n",
    "from sklearn.preprocessing import LabelEncoder\n",
    "from sklearn.model_selection import KFold\n",
    "import seaborn as sns"
   ]
  },
  {
   "attachments": {},
   "cell_type": "markdown",
   "metadata": {},
   "source": [
    "Das zu importierende Datenset soll den Namen \"raw_isolet.csv\" tragen und im gleichen Pfad, wie das Notebook sein. Zum Zeitpunkt des Herunterladen der Isolet-Datei war die Abgrenzung der Werte durch das Komma-Symbol erfolgt. Sollte sich das geändert haben, muss der Parameter delimeter angepasst werden."
   ]
  },
  {
   "cell_type": "code",
   "execution_count": null,
   "metadata": {},
   "outputs": [],
   "source": [
    "# import\n",
    "df_raw_isolet = pd.read_csv(\"./raw_isolet.csv\", delimiter=\",\")"
   ]
  },
  {
   "attachments": {},
   "cell_type": "markdown",
   "metadata": {},
   "source": [
    "##### Datenbereinigung"
   ]
  },
  {
   "attachments": {},
   "cell_type": "markdown",
   "metadata": {},
   "source": [
    "Dadurch dass 'class' ein reserviertes Keyword in Python kollidiert es mit der Funktionsmöglichkeit die Spalte über eigene Funktionsaufrufe aufzurufen. Es wurde diesbezüglich zur Spalte 'Letter' umbenannt. Außerdem wurden die String-typischen Anführungszeichen entfernt. <br>\n",
    "Zuletzt wird das Datenset in die Merkmale \"df_features\" und die Buchstaben \"df_letters\" gesplittet."
   ]
  },
  {
   "cell_type": "code",
   "execution_count": null,
   "metadata": {},
   "outputs": [],
   "source": [
    "# changing column name 'class' to 'letter' 'cause class is a reserved keyword in python \n",
    "df_raw_isolet.rename(columns={'class': 'letter'}, inplace=True)\n",
    "# removing char ' from letter\n",
    "df_raw_isolet['letter'] = df_raw_isolet['letter'].replace({'\\'': ''}, regex=True)\n",
    "\n",
    "df_features = df_raw_isolet.iloc[:, :617].to_numpy()\n",
    "df_letters = df_raw_isolet.iloc[:, 617].to_numpy()"
   ]
  },
  {
   "attachments": {},
   "cell_type": "markdown",
   "metadata": {},
   "source": [
    "Zur besseren Einteilung wurde ein Wörterbuch erstellt, welches die Zahlen in die gewünschten Buchstaben umwandelt."
   ]
  },
  {
   "cell_type": "code",
   "execution_count": 2,
   "metadata": {},
   "outputs": [],
   "source": [
    "dict = {\n",
    "    1: 'a',\n",
    "    2: 'b',\n",
    "    3: 'c',\n",
    "    4: 'd',\n",
    "    5: 'e',\n",
    "    6: 'f',\n",
    "    7: 'g',\n",
    "    8: 'h',\n",
    "    9: 'i',\n",
    "    10: 'j',\n",
    "    11: 'k',\n",
    "    12: 'l',\n",
    "    13: 'm',\n",
    "    14: 'n',\n",
    "    15: 'o',\n",
    "    16: 'p',\n",
    "    17: 'q',\n",
    "    18: 'r',\n",
    "    19: 's',\n",
    "    20: 't',\n",
    "    21: 'u',\n",
    "    22: 'v',\n",
    "    23: 'w',\n",
    "    24: 'x',\n",
    "    25: 'y',\n",
    "    26: 'z',\n",
    "}"
   ]
  },
  {
   "attachments": {},
   "cell_type": "markdown",
   "metadata": {},
   "source": [
    "##### Data Splitting"
   ]
  },
  {
   "attachments": {},
   "cell_type": "markdown",
   "metadata": {},
   "source": [
    "Der Datensatz wird nun mit dem gewünschten Verhältnis (test_size) eingeteilt. Damit die Anzahl an Klassen (Buchstaben) gleichmäßig verteilt ist, werden die Datensätze nicht vermischt (shuffle=False). "
   ]
  },
  {
   "cell_type": "code",
   "execution_count": null,
   "metadata": {},
   "outputs": [],
   "source": [
    "features_train, features_test, letters_train, letters_test = train_test_split(df_features, df_letters, test_size=.25, shuffle=False)"
   ]
  },
  {
   "attachments": {},
   "cell_type": "markdown",
   "metadata": {},
   "source": [
    "#### 2.2) Netzwerkarchitektur"
   ]
  },
  {
   "attachments": {},
   "cell_type": "markdown",
   "metadata": {},
   "source": [
    "- Dense: vollvernetze schicht\n",
    "- Einfaches Datenset -> kein komplizierte ARchitektur nötig"
   ]
  },
  {
   "attachments": {},
   "cell_type": "markdown",
   "metadata": {},
   "source": [
    "# https://keras.io/api/optimizers/"
   ]
  },
  {
   "attachments": {},
   "cell_type": "markdown",
   "metadata": {},
   "source": [
    "#### 2.3) Implementierung"
   ]
  },
  {
   "cell_type": "code",
   "execution_count": 4,
   "metadata": {},
   "outputs": [
    {
     "name": "stdout",
     "output_type": "stream",
     "text": [
      "Epoch 1/30\n",
      "12/12 [==============================] - 1s 38ms/step - loss: 2.0149 - sparse_categorical_accuracy: 0.4452 - val_loss: 0.6714 - val_sparse_categorical_accuracy: 0.7918\n",
      "Epoch 2/30\n",
      "12/12 [==============================] - 0s 27ms/step - loss: 0.4637 - sparse_categorical_accuracy: 0.8437 - val_loss: 0.4051 - val_sparse_categorical_accuracy: 0.8636\n",
      "Epoch 3/30\n",
      "12/12 [==============================] - 0s 28ms/step - loss: 0.2945 - sparse_categorical_accuracy: 0.8993 - val_loss: 0.3228 - val_sparse_categorical_accuracy: 0.8928\n",
      "Epoch 4/30\n",
      "12/12 [==============================] - 0s 29ms/step - loss: 0.1805 - sparse_categorical_accuracy: 0.9398 - val_loss: 0.2524 - val_sparse_categorical_accuracy: 0.9067\n",
      "Epoch 5/30\n",
      "12/12 [==============================] - 0s 29ms/step - loss: 0.1305 - sparse_categorical_accuracy: 0.9560 - val_loss: 0.1968 - val_sparse_categorical_accuracy: 0.9369\n",
      "Epoch 6/30\n",
      "12/12 [==============================] - 0s 28ms/step - loss: 0.0933 - sparse_categorical_accuracy: 0.9718 - val_loss: 0.1969 - val_sparse_categorical_accuracy: 0.9374\n",
      "Epoch 7/30\n",
      "12/12 [==============================] - 0s 28ms/step - loss: 0.0693 - sparse_categorical_accuracy: 0.9796 - val_loss: 0.1978 - val_sparse_categorical_accuracy: 0.9338\n",
      "Epoch 8/30\n",
      "12/12 [==============================] - 0s 28ms/step - loss: 0.0559 - sparse_categorical_accuracy: 0.9846 - val_loss: 0.2013 - val_sparse_categorical_accuracy: 0.9313\n",
      "Epoch 9/30\n",
      "12/12 [==============================] - 0s 28ms/step - loss: 0.0553 - sparse_categorical_accuracy: 0.9836 - val_loss: 0.1675 - val_sparse_categorical_accuracy: 0.9451\n",
      "Epoch 10/30\n",
      "12/12 [==============================] - 0s 28ms/step - loss: 0.0418 - sparse_categorical_accuracy: 0.9879 - val_loss: 0.1929 - val_sparse_categorical_accuracy: 0.9385\n",
      "Epoch 11/30\n",
      "12/12 [==============================] - 0s 28ms/step - loss: 0.0402 - sparse_categorical_accuracy: 0.9887 - val_loss: 0.1799 - val_sparse_categorical_accuracy: 0.9421\n",
      "Epoch 12/30\n",
      "12/12 [==============================] - 0s 28ms/step - loss: 0.0327 - sparse_categorical_accuracy: 0.9913 - val_loss: 0.1844 - val_sparse_categorical_accuracy: 0.9405\n",
      "Epoch 13/30\n",
      "12/12 [==============================] - 0s 27ms/step - loss: 0.0202 - sparse_categorical_accuracy: 0.9950 - val_loss: 0.1712 - val_sparse_categorical_accuracy: 0.9472\n",
      "Epoch 14/30\n",
      "12/12 [==============================] - 0s 28ms/step - loss: 0.0114 - sparse_categorical_accuracy: 0.9985 - val_loss: 0.1506 - val_sparse_categorical_accuracy: 0.9559\n",
      "Epoch 15/30\n",
      "12/12 [==============================] - 0s 28ms/step - loss: 0.0063 - sparse_categorical_accuracy: 0.9997 - val_loss: 0.1589 - val_sparse_categorical_accuracy: 0.9549\n",
      "Epoch 16/30\n",
      "12/12 [==============================] - 0s 27ms/step - loss: 0.0042 - sparse_categorical_accuracy: 1.0000 - val_loss: 0.1558 - val_sparse_categorical_accuracy: 0.9574\n",
      "Epoch 17/30\n",
      "12/12 [==============================] - 0s 28ms/step - loss: 0.0030 - sparse_categorical_accuracy: 1.0000 - val_loss: 0.1663 - val_sparse_categorical_accuracy: 0.9523\n",
      "Epoch 18/30\n",
      "12/12 [==============================] - 0s 28ms/step - loss: 0.0027 - sparse_categorical_accuracy: 0.9998 - val_loss: 0.1723 - val_sparse_categorical_accuracy: 0.9559\n",
      "Epoch 19/30\n",
      "12/12 [==============================] - 0s 27ms/step - loss: 0.0020 - sparse_categorical_accuracy: 0.9998 - val_loss: 0.1589 - val_sparse_categorical_accuracy: 0.9574\n",
      "Epoch 20/30\n",
      "12/12 [==============================] - 0s 28ms/step - loss: 0.0015 - sparse_categorical_accuracy: 1.0000 - val_loss: 0.1639 - val_sparse_categorical_accuracy: 0.9574\n",
      "Epoch 21/30\n",
      "12/12 [==============================] - 0s 28ms/step - loss: 0.0013 - sparse_categorical_accuracy: 1.0000 - val_loss: 0.1660 - val_sparse_categorical_accuracy: 0.9574\n",
      "Epoch 22/30\n",
      "12/12 [==============================] - 0s 28ms/step - loss: 0.0011 - sparse_categorical_accuracy: 1.0000 - val_loss: 0.1650 - val_sparse_categorical_accuracy: 0.9579\n",
      "Epoch 23/30\n",
      "12/12 [==============================] - 0s 27ms/step - loss: 9.8376e-04 - sparse_categorical_accuracy: 1.0000 - val_loss: 0.1666 - val_sparse_categorical_accuracy: 0.9569\n",
      "Epoch 24/30\n",
      "12/12 [==============================] - 0s 28ms/step - loss: 8.7751e-04 - sparse_categorical_accuracy: 1.0000 - val_loss: 0.1670 - val_sparse_categorical_accuracy: 0.9574\n",
      "Epoch 25/30\n",
      "12/12 [==============================] - 0s 28ms/step - loss: 7.9337e-04 - sparse_categorical_accuracy: 1.0000 - val_loss: 0.1672 - val_sparse_categorical_accuracy: 0.9579\n",
      "Epoch 26/30\n",
      "12/12 [==============================] - 0s 28ms/step - loss: 7.3600e-04 - sparse_categorical_accuracy: 1.0000 - val_loss: 0.1685 - val_sparse_categorical_accuracy: 0.9569\n",
      "Epoch 27/30\n",
      "12/12 [==============================] - 0s 28ms/step - loss: 6.8187e-04 - sparse_categorical_accuracy: 1.0000 - val_loss: 0.1683 - val_sparse_categorical_accuracy: 0.9574\n",
      "Epoch 28/30\n",
      "12/12 [==============================] - 0s 29ms/step - loss: 6.3998e-04 - sparse_categorical_accuracy: 1.0000 - val_loss: 0.1712 - val_sparse_categorical_accuracy: 0.9569\n",
      "Epoch 29/30\n",
      "12/12 [==============================] - 0s 28ms/step - loss: 5.8821e-04 - sparse_categorical_accuracy: 1.0000 - val_loss: 0.1711 - val_sparse_categorical_accuracy: 0.9590\n",
      "Epoch 30/30\n",
      "12/12 [==============================] - 0s 28ms/step - loss: 5.5277e-04 - sparse_categorical_accuracy: 1.0000 - val_loss: 0.1728 - val_sparse_categorical_accuracy: 0.9564\n"
     ]
    }
   ],
   "source": [
    "# Dimensionen der Trainingsdaten bestimmen\n",
    "in_shape = df_features.shape[1:]\n",
    "\n",
    "model = Sequential()\n",
    "model.add(Dense(1000, activation='relu', kernel_initializer='he_normal', input_shape=in_shape))\n",
    "model.add(Dense(600, activation='relu', kernel_initializer='he_normal'))\n",
    "model.add(Dense(400, activation='relu', kernel_initializer='he_normal'))\n",
    "model.add(Dense(200, activation='relu', kernel_initializer='he_normal'))\n",
    "model.add(Dense(100, activation='relu', kernel_initializer='he_normal'))\n",
    "model.add(Dense(26, activation='softmax'))\n",
    "\n",
    "model.compile(optimizer='adam', loss='sparse_categorical_crossentropy', metrics=[SparseCategoricalAccuracy()])\n",
    "history = model.fit(features_train, letters_train, epochs=30, batch_size=512, verbose=True, validation_data=(features_test, letters_test))\n",
    "hofModel = model"
   ]
  },
  {
   "attachments": {},
   "cell_type": "markdown",
   "metadata": {},
   "source": [
    "#### 2.4) Wahl der Loss-Funktion und Optimizer"
   ]
  },
  {
   "cell_type": "code",
   "execution_count": 5,
   "metadata": {},
   "outputs": [
    {
     "name": "stdout",
     "output_type": "stream",
     "text": [
      "Accuracy: 0.9564102292060852, Loss: 0.17275142669677734\n"
     ]
    },
    {
     "data": {
      "image/png": "[encoded data removed]",
      "text/plain": [
       "<Figure size 640x480 with 1 Axes>"
      ]
     },
     "metadata": {},
     "output_type": "display_data"
    }
   ],
   "source": [
    "df_history = pd.DataFrame(history.history).reset_index()\n",
    "df_history.columns = [\"Epoch\", \"loss\", \"accuracy\", \"val_loss\", \"val_accuracy\"]\n",
    "df_history = pd.melt(df_history, id_vars=\"Epoch\", value_vars=[\"loss\", \"accuracy\", \"val_loss\", \"val_accuracy\"])\n",
    "fig = sns.lineplot(df_history, x=\"Epoch\", y=\"value\", hue=\"variable\")\n",
    "fig.set_title(\"Training history\")\n",
    "loss, acc = model.evaluate(features_test, letters_test, verbose=0)\n",
    "print(f\"Accuracy: {acc}, Loss: {loss}\")"
   ]
  },
  {
   "attachments": {},
   "cell_type": "markdown",
   "metadata": {},
   "source": [
    "#### 2.5) Evaluierung"
   ]
  },
  {
   "attachments": {},
   "cell_type": "markdown",
   "metadata": {},
   "source": [
    "##### 3-fold cv"
   ]
  },
  {
   "cell_type": "code",
   "execution_count": 10,
   "metadata": {},
   "outputs": [
    {
     "name": "stdout",
     "output_type": "stream",
     "text": [
      "------------------------------------------------------------------------\n",
      "Training for fold 1 ...\n",
      "Score for fold 1: loss of 0.24106845259666443; accuracy of 93.89430284500122%\n",
      "------------------------------------------------------------------------\n",
      "Training for fold 2 ...\n",
      "Score for fold 2: loss of 0.1896737515926361; accuracy of 93.94561052322388%\n",
      "------------------------------------------------------------------------\n",
      "Training for fold 3 ...\n",
      "Score for fold 3: loss of 0.1698891669511795; accuracy of 94.86916661262512%\n",
      "------------------------------------------------------------------------\n"
     ]
    }
   ],
   "source": [
    "# Dimensionen der Trainingsdaten bestimmen\n",
    "in_shape = df_features.shape[1:]\n",
    "\n",
    "kfold = KFold(n_splits=3)\n",
    "acc_per_fold = []\n",
    "loss_per_fold = []\n",
    "\n",
    "# K-fold Cross Validation model evaluation\n",
    "fold_no = 1\n",
    "for train, test in kfold.split(features_train, letters_train):\n",
    "\n",
    "    model = Sequential()\n",
    "    model.add(Dense(617, activation='relu', kernel_initializer='he_normal', input_shape=in_shape))\n",
    "    model.add(Dense(400, activation='relu', kernel_initializer='he_normal'))\n",
    "    model.add(Dense(200, activation='relu', kernel_initializer='he_normal'))\n",
    "    model.add(Dense(100, activation='relu', kernel_initializer='he_normal'))\n",
    "    model.add(Dense(26, activation='softmax'))\n",
    "\n",
    "    model.compile(optimizer='adam', loss='sparse_categorical_crossentropy', metrics=[SparseCategoricalAccuracy()])\n",
    "\n",
    "    # Generate a print \n",
    "    print('------------------------------------------------------------------------')\n",
    "    print(f'Training for fold {fold_no} ...')\n",
    "\n",
    "    model.fit(features_train[train], letters_train[train], epochs=30, batch_size=512, verbose=False)\n",
    "    \n",
    "    # Generate generalization metrics\n",
    "    loss, acc = model.evaluate(features_train[test], letters_train[test], verbose=False)\n",
    "    print(f'Score for fold {fold_no}: loss of {loss}; accuracy of {acc*100}%')\n",
    "    acc_per_fold.append(acc * 100)\n",
    "    loss_per_fold.append(loss)\n",
    "\n",
    "    # Increase fold number\n",
    "    fold_no = fold_no + 1\n",
    "    \n",
    "print('------------------------------------------------------------------------')"
   ]
  },
  {
   "cell_type": "code",
   "execution_count": 13,
   "metadata": {},
   "outputs": [
    {
     "name": "stdout",
     "output_type": "stream",
     "text": [
      "------------------------------------------------------------------------\n",
      "Score per fold\n",
      "------------------------------------------------------------------------\n",
      "> Fold 1 - Loss: 0.24106845259666443 - Accuracy: 93.89430284500122%\n",
      "------------------------------------------------------------------------\n",
      "> Fold 2 - Loss: 0.1896737515926361 - Accuracy: 93.94561052322388%\n",
      "------------------------------------------------------------------------\n",
      "> Fold 3 - Loss: 0.1698891669511795 - Accuracy: 94.86916661262512%\n",
      "------------------------------------------------------------------------\n",
      "Average scores for all folds:\n",
      "> Accuracy: 94.23635999361674 (+- 0.447951844329101)\n",
      "> Loss: 0.2002104570468267\n",
      "------------------------------------------------------------------------\n"
     ]
    }
   ],
   "source": [
    "# == Provide average scores ==\n",
    "print('------------------------------------------------------------------------')\n",
    "print('Score per fold')\n",
    "for i in range(0, len(acc_per_fold)):\n",
    "  print('------------------------------------------------------------------------')\n",
    "  print(f'> Fold {i+1} - Loss: {loss_per_fold[i]} - Accuracy: {acc_per_fold[i]}%')\n",
    "print('------------------------------------------------------------------------')\n",
    "print('Average scores for all folds:')\n",
    "print(f'> Accuracy: {np.mean(acc_per_fold)} (+- {np.std(acc_per_fold)})')\n",
    "print(f'> Loss: {np.mean(loss_per_fold)}')\n",
    "print('------------------------------------------------------------------------')"
   ]
  },
  {
   "attachments": {},
   "cell_type": "markdown",
   "metadata": {},
   "source": [
    "# Weitere Bestandteiles des Kurzreports"
   ]
  },
  {
   "attachments": {},
   "cell_type": "markdown",
   "metadata": {},
   "source": [
    "### Arbeitsverteilung"
   ]
  },
  {
   "cell_type": "markdown",
   "metadata": {},
   "source": []
  },
  {
   "attachments": {},
   "cell_type": "markdown",
   "metadata": {},
   "source": [
    "### Diskussion beider Implementierungsvorgänge"
   ]
  },
  {
   "cell_type": "markdown",
   "metadata": {},
   "source": []
  }
 ],
 "metadata": {
  "kernelspec": {
   "display_name": "Python 3",
   "language": "python",
   "name": "python3"
  },
  "language_info": {
   "codemirror_mode": {
    "name": "ipython",
    "version": 3
   },
   "file_extension": ".py",
   "mimetype": "text/x-python",
   "name": "python",
   "nbconvert_exporter": "python",
   "pygments_lexer": "ipython3",
   "version": "3.9.13 (tags/v3.9.13:6de2ca5, May 17 2022, 16:36:42) [MSC v.1929 64 bit (AMD64)]"
  },
  "orig_nbformat": 4,
  "vscode": {
   "interpreter": {
    "hash": "11938c6bc6919ae2720b4d5011047913343b08a43b18698fd82dedb0d4417594"
   }
  }
 },
 "nbformat": 4,
 "nbformat_minor": 2
}
