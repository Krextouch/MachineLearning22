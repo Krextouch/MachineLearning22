{
 "cells": [
  {
   "cell_type": "markdown",
   "metadata": {},
   "source": [
    "# Prüfungsleitung Maschnielles Lernen: Gruppe 8\n",
    "\n",
    "Isolet download: https://datahub.io/machine-learning/isolet"
   ]
  },
  {
   "cell_type": "markdown",
   "metadata": {},
   "source": [
    "### Aufgabe 1"
   ]
  },
  {
   "attachments": {},
   "cell_type": "markdown",
   "metadata": {},
   "source": [
    "#### Imports"
   ]
  },
  {
   "cell_type": "code",
   "execution_count": 1,
   "metadata": {},
   "outputs": [],
   "source": [
    "import pandas as pd\n",
    "import matplotlib.pyplot as plt\n",
    "import seaborn as sns\n",
    "import sklearn as sk\n",
    "import numpy as np\n",
    "from sklearn.model_selection import train_test_split\n",
    "from sklearn.decomposition import PCA\n",
    "from sklearn.feature_selection import SequentialFeatureSelector\n",
    "from skfeature.function.similarity_based import fisher_score\n",
    "from sklearn.cluster import KMeans\n",
    "from sklearn.preprocessing import StandardScaler\n",
    "from sklearn.ensemble import RandomForestClassifier\n",
    "from sklearn.model_selection import cross_val_score\n",
    "from sklearn.model_selection import GridSearchCV\n",
    "import warnings\n",
    "warnings.filterwarnings(\"ignore\")"
   ]
  },
  {
   "cell_type": "code",
   "execution_count": 2,
   "metadata": {},
   "outputs": [],
   "source": [
    "# import\n",
    "df_raw_isolet = pd.read_csv(\"./raw_isolet.csv\", delimiter=\",\")\n",
    "\n",
    "# changing column name 'class' to 'letter' 'cause class is a reservated keyword in python \n",
    "df_raw_isolet.rename(columns={'class': 'letter'}, inplace=True)\n",
    "# removing char ' from letter\n",
    "df_raw_isolet['letter'] = df_raw_isolet['letter'].replace({'\\'': ''}, regex=True)\n",
    "\n",
    "X = df_raw_isolet.iloc[:, :617]\n",
    "y = df_raw_isolet.iloc[:, 617]"
   ]
  },
  {
   "cell_type": "markdown",
   "metadata": {},
   "source": [
    "##### Einfache Datenbetrachtung"
   ]
  },
  {
   "cell_type": "code",
   "execution_count": 3,
   "metadata": {},
   "outputs": [
    {
     "name": "stdout",
     "output_type": "stream",
     "text": [
      "Einträge in isolet.csv 7797\n",
      "Gruppierte Einträge: letter\n",
      "1     300\n",
      "10    300\n",
      "11    300\n",
      "12    300\n",
      "13    299\n",
      "14    300\n",
      "15    300\n",
      "16    300\n",
      "17    300\n",
      "18    300\n",
      "19    300\n",
      "2     300\n",
      "20    300\n",
      "21    300\n",
      "22    300\n",
      "23    300\n",
      "24    300\n",
      "25    300\n",
      "26    300\n",
      "3     300\n",
      "4     300\n",
      "5     300\n",
      "6     298\n",
      "7     300\n",
      "8     300\n",
      "9     300\n",
      "dtype: int64\n"
     ]
    }
   ],
   "source": [
    "print(\"Einträge in isolet.csv\", len(df_raw_isolet))\n",
    "print(\"Gruppierte Einträge:\", df_raw_isolet.groupby(['letter']).size())"
   ]
  },
  {
   "cell_type": "markdown",
   "metadata": {},
   "source": [
    "Bei der Betrachtung der Anzahl ist aufällig, dass in der Regel pro Buchstabe 300 Einträge aufgezeichnet wurden. Da aber len(df) nur 7797 Einträge beinhaltet, gibt es einige Ausnahmen. <br>\n",
    "Ausnahmen: Buchstabe 13 mit 299 Einträgen und Buchstabe 6 mit 298 Einträgen <br><br>\n",
    "Insgesamt bietet die sehr ausgewogene Verteilung der jeweiligen Buchstaben eine sehr gute Basis dies in dem Data Splitting zu betrachten. So wird für jeden Buchstaben ein Testsatz von je 75 Einträge bestimmt. Formel: ⎡Anzahl Einträge pro Buchstabe * 0,25⎤"
   ]
  },
  {
   "cell_type": "markdown",
   "metadata": {},
   "source": [
    "##### Data Splitting"
   ]
  },
  {
   "cell_type": "code",
   "execution_count": 4,
   "metadata": {},
   "outputs": [],
   "source": [
    "# df_training = df_raw_isolet.copy()\n",
    "# df_test = pd.DataFrame(data=None, columns=df_raw_isolet.columns)\n",
    "# numberOfTestEntries = 75\n",
    "\n",
    "# for i in range(26):\n",
    "#     df_test = pd.concat([df_test, df_training[df_training.letter.str.match(\"^\" + str(i+1) + \"$\")].head(numberOfTestEntries)])\n",
    "# df_training.drop(df_test.index, inplace=True)\n",
    "\n",
    "# # check\n",
    "# print(\"Number of rows in df_raw_isolet:\", len(df_raw_isolet))\n",
    "# print(\"Number of rows in df_training:\", len(df_training))\n",
    "# print(\"Number of rows in df_test\", len(df_test))\n",
    "# if len(df_training) + len(df_test) == len(df_raw_isolet):\n",
    "#     print(\"OK: Check passed!\")\n",
    "# else: \n",
    "#     print(\"WARNING: The number of lines do not match! Diffrence:\", len(df_training) + len(df_test) - len(df_raw_isolet))    \n"
   ]
  },
  {
   "cell_type": "code",
   "execution_count": 5,
   "metadata": {},
   "outputs": [],
   "source": [
    "X_train, X_test, y_train, y_test = train_test_split(X, y, random_state=42, test_size=.25, shuffle=False)"
   ]
  },
  {
   "attachments": {},
   "cell_type": "markdown",
   "metadata": {},
   "source": [
    "#### Merkmalstransformation - Principal Component Analysis"
   ]
  },
  {
   "cell_type": "code",
   "execution_count": 6,
   "metadata": {},
   "outputs": [],
   "source": [
    "pca = PCA(n_components=100)\n",
    "pca.fit(X_train)\n",
    "X_train_pca = pca.transform(X_train)"
   ]
  },
  {
   "attachments": {},
   "cell_type": "markdown",
   "metadata": {},
   "source": [
    "#### Merkmalsselektion - Fisher Score"
   ]
  },
  {
   "cell_type": "code",
   "execution_count": 7,
   "metadata": {},
   "outputs": [],
   "source": [
    "X_train = X_train.to_numpy()\n",
    "y_train = y_train.to_numpy()\n",
    "\n",
    "X_test = X_test.to_numpy()\n",
    "y_test = y_test.to_numpy()\n",
    "\n",
    "rank_idx = fisher_score.fisher_score(X_train, y_train, mode='rank')"
   ]
  },
  {
   "cell_type": "code",
   "execution_count": 8,
   "metadata": {},
   "outputs": [],
   "source": [
    "num_features = 100\n",
    "selected_features_train = X_train[:, rank_idx[:num_features]]\n",
    "selected_features_test = X_test[:, rank_idx[:num_features]]"
   ]
  },
  {
   "attachments": {},
   "cell_type": "markdown",
   "metadata": {},
   "source": [
    "#### Random Forest Classifier - Principal Component Analysis"
   ]
  },
  {
   "cell_type": "code",
   "execution_count": 9,
   "metadata": {},
   "outputs": [
    {
     "name": "stdout",
     "output_type": "stream",
     "text": [
      "Accuracy: 0.9061538461538462\n"
     ]
    }
   ],
   "source": [
    "from sklearn.ensemble import RandomForestClassifier\n",
    "from sklearn import metrics\n",
    "\n",
    "#Create a Gaussian Classifier\n",
    "rfc_pca = RandomForestClassifier()\n",
    "rfc_pca.fit(X_train_pca, y_train)\n",
    "\n",
    "y_pred_rfc_pca = rfc_pca.predict(pca.transform(X_test))\n",
    "\n",
    "# Model Accuracy, how often is the classifier correct?\n",
    "print(\"Accuracy:\",metrics.accuracy_score(y_test, y_pred_rfc_pca))"
   ]
  },
  {
   "attachments": {},
   "cell_type": "markdown",
   "metadata": {},
   "source": [
    "#### Random Forest Classifier - Fisher Score"
   ]
  },
  {
   "cell_type": "code",
   "execution_count": 10,
   "metadata": {},
   "outputs": [
    {
     "name": "stdout",
     "output_type": "stream",
     "text": [
      "Accuracy: 0.8635897435897436\n"
     ]
    }
   ],
   "source": [
    "#Create a Gaussian Classifier\n",
    "rfc_fs = RandomForestClassifier()\n",
    "rfc_fs.fit(selected_features_train, y_train)\n",
    "\n",
    "y_pred_rfc_fs = rfc_fs.predict(X_test[:, rank_idx[:num_features]])\n",
    "\n",
    "# Model Accuracy, how often is the classifier correct?\n",
    "print(\"Accuracy:\",metrics.accuracy_score(y_test, y_pred_rfc_fs))"
   ]
  },
  {
   "attachments": {},
   "cell_type": "markdown",
   "metadata": {},
   "source": [
    "#### k-Means Clustering - Principal Component Analysis"
   ]
  },
  {
   "cell_type": "code",
   "execution_count": 11,
   "metadata": {},
   "outputs": [
    {
     "name": "stdout",
     "output_type": "stream",
     "text": [
      "Accuracy: 0.04051282051282051\n"
     ]
    }
   ],
   "source": [
    "kmeans_pca = KMeans(n_clusters=26, random_state=42)\n",
    "kmeans_pca.fit(X_train_pca)\n",
    "y_pred_kmeans_pca = kmeans_pca.predict(pca.transform(X_test))\n",
    "\n",
    "# Model Accuracy, how often is the classifier correct?\n",
    "print(\"Accuracy:\",metrics.accuracy_score(y_test.astype(np.int0), y_pred_kmeans_pca))"
   ]
  },
  {
   "attachments": {},
   "cell_type": "markdown",
   "metadata": {},
   "source": [
    "#### k-Means Clustering - Fisher Score"
   ]
  },
  {
   "cell_type": "code",
   "execution_count": 12,
   "metadata": {},
   "outputs": [
    {
     "name": "stdout",
     "output_type": "stream",
     "text": [
      "Accuracy: 0.038974358974358976\n"
     ]
    }
   ],
   "source": [
    "kmeans_fs = KMeans(n_clusters=26, random_state=42)\n",
    "kmeans_fs.fit(selected_features_train)\n",
    "y_pred_kmeans_fs = kmeans_pca.predict(X_test[:, rank_idx[:num_features]])\n",
    "\n",
    "# Model Accuracy, how often is the classifier correct?\n",
    "print(\"Accuracy:\",metrics.accuracy_score(y_test.astype(np.int0), y_pred_kmeans_fs))"
   ]
  },
  {
   "attachments": {},
   "cell_type": "markdown",
   "metadata": {},
   "source": [
    "#### 3-fold cv - Random Forest Classifier"
   ]
  },
  {
   "cell_type": "code",
   "execution_count": 13,
   "metadata": {},
   "outputs": [],
   "source": [
    "scores = []\n",
    "\n",
    "score = cross_val_score(RandomForestClassifier(), X_train_pca, y_train, cv=3)\n",
    "scores.append(score)"
   ]
  },
  {
   "cell_type": "code",
   "execution_count": 14,
   "metadata": {},
   "outputs": [],
   "source": [
    "score = cross_val_score(RandomForestClassifier(), selected_features_train, y_train, cv=3)\n",
    "scores.append(score)"
   ]
  },
  {
   "attachments": {},
   "cell_type": "markdown",
   "metadata": {},
   "source": [
    "#### 3-fold cv - k-Means Clustering"
   ]
  },
  {
   "cell_type": "code",
   "execution_count": 15,
   "metadata": {},
   "outputs": [],
   "source": [
    "score = cross_val_score(KMeans(n_clusters=26, random_state=42), X_train_pca, y_train, cv=3)\n",
    "scores.append(score)"
   ]
  },
  {
   "cell_type": "code",
   "execution_count": 16,
   "metadata": {},
   "outputs": [],
   "source": [
    "score = cross_val_score(KMeans(n_clusters=26, random_state=42), selected_features_train, y_train, cv=3)\n",
    "scores.append(score)"
   ]
  },
  {
   "cell_type": "code",
   "execution_count": 17,
   "metadata": {},
   "outputs": [
    {
     "name": "stdout",
     "output_type": "stream",
     "text": [
      "Accuracy mean of Random Forest with Principal Component Analysis: 0.9047374722079699\n",
      "Accuracy mean of Random Forest with Fisher Score: 0.86198050282196\n",
      "Accuracy mean of k-Means Clustering with Principal Component Analysis: -93065.45257559053\n",
      "Accuracy mean of k-Means Clustering with Fisher Score: -17828.58741055869\n"
     ]
    }
   ],
   "source": [
    "print(f'Accuracy mean of Random Forest with Principal Component Analysis: {np.mean(scores[0])}')\n",
    "print(f'Accuracy mean of Random Forest with Fisher Score: {np.mean(scores[1])}')\n",
    "print(f'Accuracy mean of k-Means Clustering with Principal Component Analysis: {np.mean(scores[2])}')\n",
    "print(f'Accuracy mean of k-Means Clustering with Fisher Score: {np.mean(scores[3])}')"
   ]
  },
  {
   "cell_type": "markdown",
   "metadata": {},
   "source": [
    "#### 3) Implementierung der Klassifikatoren"
   ]
  },
  {
   "cell_type": "markdown",
   "metadata": {},
   "source": [
    "#### 4) Evaluation"
   ]
  }
 ],
 "metadata": {
  "kernelspec": {
   "display_name": "Python 3",
   "language": "python",
   "name": "python3"
  },
  "language_info": {
   "codemirror_mode": {
    "name": "ipython",
    "version": 3
   },
   "file_extension": ".py",
   "mimetype": "text/x-python",
   "name": "python",
   "nbconvert_exporter": "python",
   "pygments_lexer": "ipython3",
   "version": "3.9.13 (tags/v3.9.13:6de2ca5, May 17 2022, 16:36:42) [MSC v.1929 64 bit (AMD64)]"
  },
  "orig_nbformat": 4,
  "vscode": {
   "interpreter": {
    "hash": "11938c6bc6919ae2720b4d5011047913343b08a43b18698fd82dedb0d4417594"
   }
  }
 },
 "nbformat": 4,
 "nbformat_minor": 2
}
